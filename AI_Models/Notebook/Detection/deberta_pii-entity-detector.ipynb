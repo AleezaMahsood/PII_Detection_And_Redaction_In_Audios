{
 "cells": [
  {
   "cell_type": "markdown",
   "metadata": {},
   "source": [
    "### Installing necessary libraries"
   ]
  },
  {
   "cell_type": "code",
   "execution_count": 1,
   "metadata": {
    "_cell_guid": "b1076dfc-b9ad-4769-8c92-a6c4dae69d19",
    "_uuid": "8f2839f25d086af736a60e9eeb907d3b93b6e0e5",
    "execution": {
     "iopub.execute_input": "2025-04-21T14:35:34.691229Z",
     "iopub.status.busy": "2025-04-21T14:35:34.690544Z",
     "iopub.status.idle": "2025-04-21T14:35:42.103875Z",
     "shell.execute_reply": "2025-04-21T14:35:42.103204Z",
     "shell.execute_reply.started": "2025-04-21T14:35:34.691204Z"
    },
    "trusted": true
   },
   "outputs": [
    {
     "name": "stdout",
     "output_type": "stream",
     "text": [
      "Requirement already satisfied: datasets in /usr/local/lib/python3.11/dist-packages (3.5.0)\n",
      "Requirement already satisfied: transformers in /usr/local/lib/python3.11/dist-packages (4.51.1)\n",
      "Collecting seqeval\n",
      "  Downloading seqeval-1.2.2.tar.gz (43 kB)\n",
      "\u001b[2K     \u001b[90m━━━━━━━━━━━━━━━━━━━━━━━━━━━━━━━━━━━━━━━━\u001b[0m \u001b[32m43.6/43.6 kB\u001b[0m \u001b[31m2.3 MB/s\u001b[0m eta \u001b[36m0:00:00\u001b[0m\n",
      "\u001b[?25h  Preparing metadata (setup.py) ... \u001b[?25l\u001b[?25hdone\n",
      "Collecting evaluate\n",
      "  Downloading evaluate-0.4.3-py3-none-any.whl.metadata (9.2 kB)\n",
      "Requirement already satisfied: filelock in /usr/local/lib/python3.11/dist-packages (from datasets) (3.18.0)\n",
      "Requirement already satisfied: numpy>=1.17 in /usr/local/lib/python3.11/dist-packages (from datasets) (1.26.4)\n",
      "Requirement already satisfied: pyarrow>=15.0.0 in /usr/local/lib/python3.11/dist-packages (from datasets) (19.0.1)\n",
      "Requirement already satisfied: dill<0.3.9,>=0.3.0 in /usr/local/lib/python3.11/dist-packages (from datasets) (0.3.8)\n",
      "Requirement already satisfied: pandas in /usr/local/lib/python3.11/dist-packages (from datasets) (2.2.3)\n",
      "Requirement already satisfied: requests>=2.32.2 in /usr/local/lib/python3.11/dist-packages (from datasets) (2.32.3)\n",
      "Requirement already satisfied: tqdm>=4.66.3 in /usr/local/lib/python3.11/dist-packages (from datasets) (4.67.1)\n",
      "Requirement already satisfied: xxhash in /usr/local/lib/python3.11/dist-packages (from datasets) (3.5.0)\n",
      "Requirement already satisfied: multiprocess<0.70.17 in /usr/local/lib/python3.11/dist-packages (from datasets) (0.70.16)\n",
      "Collecting fsspec<=2024.12.0,>=2023.1.0 (from fsspec[http]<=2024.12.0,>=2023.1.0->datasets)\n",
      "  Downloading fsspec-2024.12.0-py3-none-any.whl.metadata (11 kB)\n",
      "Requirement already satisfied: aiohttp in /usr/local/lib/python3.11/dist-packages (from datasets) (3.11.16)\n",
      "Requirement already satisfied: huggingface-hub>=0.24.0 in /usr/local/lib/python3.11/dist-packages (from datasets) (0.30.2)\n",
      "Requirement already satisfied: packaging in /usr/local/lib/python3.11/dist-packages (from datasets) (24.2)\n",
      "Requirement already satisfied: pyyaml>=5.1 in /usr/local/lib/python3.11/dist-packages (from datasets) (6.0.2)\n",
      "Requirement already satisfied: regex!=2019.12.17 in /usr/local/lib/python3.11/dist-packages (from transformers) (2024.11.6)\n",
      "Requirement already satisfied: tokenizers<0.22,>=0.21 in /usr/local/lib/python3.11/dist-packages (from transformers) (0.21.0)\n",
      "Requirement already satisfied: safetensors>=0.4.3 in /usr/local/lib/python3.11/dist-packages (from transformers) (0.5.2)\n",
      "Requirement already satisfied: scikit-learn>=0.21.3 in /usr/local/lib/python3.11/dist-packages (from seqeval) (1.2.2)\n",
      "Requirement already satisfied: aiohappyeyeballs>=2.3.0 in /usr/local/lib/python3.11/dist-packages (from aiohttp->datasets) (2.6.1)\n",
      "Requirement already satisfied: aiosignal>=1.1.2 in /usr/local/lib/python3.11/dist-packages (from aiohttp->datasets) (1.3.2)\n",
      "Requirement already satisfied: attrs>=17.3.0 in /usr/local/lib/python3.11/dist-packages (from aiohttp->datasets) (25.3.0)\n",
      "Requirement already satisfied: frozenlist>=1.1.1 in /usr/local/lib/python3.11/dist-packages (from aiohttp->datasets) (1.5.0)\n",
      "Requirement already satisfied: multidict<7.0,>=4.5 in /usr/local/lib/python3.11/dist-packages (from aiohttp->datasets) (6.2.0)\n",
      "Requirement already satisfied: propcache>=0.2.0 in /usr/local/lib/python3.11/dist-packages (from aiohttp->datasets) (0.3.1)\n",
      "Requirement already satisfied: yarl<2.0,>=1.17.0 in /usr/local/lib/python3.11/dist-packages (from aiohttp->datasets) (1.19.0)\n",
      "Requirement already satisfied: typing-extensions>=3.7.4.3 in /usr/local/lib/python3.11/dist-packages (from huggingface-hub>=0.24.0->datasets) (4.13.1)\n",
      "Requirement already satisfied: mkl_fft in /usr/local/lib/python3.11/dist-packages (from numpy>=1.17->datasets) (1.3.8)\n",
      "Requirement already satisfied: mkl_random in /usr/local/lib/python3.11/dist-packages (from numpy>=1.17->datasets) (1.2.4)\n",
      "Requirement already satisfied: mkl_umath in /usr/local/lib/python3.11/dist-packages (from numpy>=1.17->datasets) (0.1.1)\n",
      "Requirement already satisfied: mkl in /usr/local/lib/python3.11/dist-packages (from numpy>=1.17->datasets) (2025.1.0)\n",
      "Requirement already satisfied: tbb4py in /usr/local/lib/python3.11/dist-packages (from numpy>=1.17->datasets) (2022.1.0)\n",
      "Requirement already satisfied: mkl-service in /usr/local/lib/python3.11/dist-packages (from numpy>=1.17->datasets) (2.4.1)\n",
      "Requirement already satisfied: charset-normalizer<4,>=2 in /usr/local/lib/python3.11/dist-packages (from requests>=2.32.2->datasets) (3.4.1)\n",
      "Requirement already satisfied: idna<4,>=2.5 in /usr/local/lib/python3.11/dist-packages (from requests>=2.32.2->datasets) (3.10)\n",
      "Requirement already satisfied: urllib3<3,>=1.21.1 in /usr/local/lib/python3.11/dist-packages (from requests>=2.32.2->datasets) (2.3.0)\n",
      "Requirement already satisfied: certifi>=2017.4.17 in /usr/local/lib/python3.11/dist-packages (from requests>=2.32.2->datasets) (2025.1.31)\n",
      "Requirement already satisfied: scipy>=1.3.2 in /usr/local/lib/python3.11/dist-packages (from scikit-learn>=0.21.3->seqeval) (1.15.2)\n",
      "Requirement already satisfied: joblib>=1.1.1 in /usr/local/lib/python3.11/dist-packages (from scikit-learn>=0.21.3->seqeval) (1.4.2)\n",
      "Requirement already satisfied: threadpoolctl>=2.0.0 in /usr/local/lib/python3.11/dist-packages (from scikit-learn>=0.21.3->seqeval) (3.6.0)\n",
      "Requirement already satisfied: python-dateutil>=2.8.2 in /usr/local/lib/python3.11/dist-packages (from pandas->datasets) (2.9.0.post0)\n",
      "Requirement already satisfied: pytz>=2020.1 in /usr/local/lib/python3.11/dist-packages (from pandas->datasets) (2025.2)\n",
      "Requirement already satisfied: tzdata>=2022.7 in /usr/local/lib/python3.11/dist-packages (from pandas->datasets) (2025.2)\n",
      "Requirement already satisfied: six>=1.5 in /usr/local/lib/python3.11/dist-packages (from python-dateutil>=2.8.2->pandas->datasets) (1.17.0)\n",
      "Requirement already satisfied: intel-openmp<2026,>=2024 in /usr/local/lib/python3.11/dist-packages (from mkl->numpy>=1.17->datasets) (2024.2.0)\n",
      "Requirement already satisfied: tbb==2022.* in /usr/local/lib/python3.11/dist-packages (from mkl->numpy>=1.17->datasets) (2022.1.0)\n",
      "Requirement already satisfied: tcmlib==1.* in /usr/local/lib/python3.11/dist-packages (from tbb==2022.*->mkl->numpy>=1.17->datasets) (1.2.0)\n",
      "Requirement already satisfied: intel-cmplr-lib-rt in /usr/local/lib/python3.11/dist-packages (from mkl_umath->numpy>=1.17->datasets) (2024.2.0)\n",
      "Requirement already satisfied: intel-cmplr-lib-ur==2024.2.0 in /usr/local/lib/python3.11/dist-packages (from intel-openmp<2026,>=2024->mkl->numpy>=1.17->datasets) (2024.2.0)\n",
      "Downloading evaluate-0.4.3-py3-none-any.whl (84 kB)\n",
      "\u001b[2K   \u001b[90m━━━━━━━━━━━━━━━━━━━━━━━━━━━━━━━━━━━━━━━━\u001b[0m \u001b[32m84.0/84.0 kB\u001b[0m \u001b[31m4.5 MB/s\u001b[0m eta \u001b[36m0:00:00\u001b[0m\n",
      "\u001b[?25hDownloading fsspec-2024.12.0-py3-none-any.whl (183 kB)\n",
      "\u001b[2K   \u001b[90m━━━━━━━━━━━━━━━━━━━━━━━━━━━━━━━━━━━━━━━━\u001b[0m \u001b[32m183.9/183.9 kB\u001b[0m \u001b[31m9.1 MB/s\u001b[0m eta \u001b[36m0:00:00\u001b[0m\n",
      "\u001b[?25hBuilding wheels for collected packages: seqeval\n",
      "  Building wheel for seqeval (setup.py) ... \u001b[?25l\u001b[?25hdone\n",
      "  Created wheel for seqeval: filename=seqeval-1.2.2-py3-none-any.whl size=16161 sha256=30f958a9beb910f3713ce324d4e92709095205098796015a22972e8799a0f0b2\n",
      "  Stored in directory: /root/.cache/pip/wheels/bc/92/f0/243288f899c2eacdfa8c5f9aede4c71a9bad0ee26a01dc5ead\n",
      "Successfully built seqeval\n",
      "Installing collected packages: fsspec, seqeval, evaluate\n",
      "  Attempting uninstall: fsspec\n",
      "    Found existing installation: fsspec 2025.3.2\n",
      "    Uninstalling fsspec-2025.3.2:\n",
      "      Successfully uninstalled fsspec-2025.3.2\n",
      "\u001b[31mERROR: pip's dependency resolver does not currently take into account all the packages that are installed. This behaviour is the source of the following dependency conflicts.\n",
      "gcsfs 2024.10.0 requires fsspec==2024.10.0, but you have fsspec 2024.12.0 which is incompatible.\n",
      "torch 2.5.1+cu124 requires nvidia-cublas-cu12==12.4.5.8; platform_system == \"Linux\" and platform_machine == \"x86_64\", but you have nvidia-cublas-cu12 12.8.4.1 which is incompatible.\n",
      "torch 2.5.1+cu124 requires nvidia-cudnn-cu12==9.1.0.70; platform_system == \"Linux\" and platform_machine == \"x86_64\", but you have nvidia-cudnn-cu12 9.3.0.75 which is incompatible.\n",
      "torch 2.5.1+cu124 requires nvidia-cufft-cu12==11.2.1.3; platform_system == \"Linux\" and platform_machine == \"x86_64\", but you have nvidia-cufft-cu12 11.3.3.83 which is incompatible.\n",
      "torch 2.5.1+cu124 requires nvidia-curand-cu12==10.3.5.147; platform_system == \"Linux\" and platform_machine == \"x86_64\", but you have nvidia-curand-cu12 10.3.9.90 which is incompatible.\n",
      "torch 2.5.1+cu124 requires nvidia-cusolver-cu12==11.6.1.9; platform_system == \"Linux\" and platform_machine == \"x86_64\", but you have nvidia-cusolver-cu12 11.7.3.90 which is incompatible.\n",
      "torch 2.5.1+cu124 requires nvidia-cusparse-cu12==12.3.1.170; platform_system == \"Linux\" and platform_machine == \"x86_64\", but you have nvidia-cusparse-cu12 12.5.8.93 which is incompatible.\n",
      "torch 2.5.1+cu124 requires nvidia-nvjitlink-cu12==12.4.127; platform_system == \"Linux\" and platform_machine == \"x86_64\", but you have nvidia-nvjitlink-cu12 12.8.93 which is incompatible.\n",
      "bigframes 1.36.0 requires rich<14,>=12.4.4, but you have rich 14.0.0 which is incompatible.\u001b[0m\u001b[31m\n",
      "\u001b[0mSuccessfully installed evaluate-0.4.3 fsspec-2024.12.0 seqeval-1.2.2\n"
     ]
    }
   ],
   "source": [
    "# isntall necessary libraries\n",
    "! pip install datasets transformers seqeval evaluate\n"
   ]
  },
  {
   "cell_type": "code",
   "execution_count": 2,
   "metadata": {
    "execution": {
     "iopub.execute_input": "2025-04-21T14:35:48.409616Z",
     "iopub.status.busy": "2025-04-21T14:35:48.409038Z",
     "iopub.status.idle": "2025-04-21T14:36:17.791421Z",
     "shell.execute_reply": "2025-04-21T14:36:17.790684Z",
     "shell.execute_reply.started": "2025-04-21T14:35:48.409589Z"
    },
    "trusted": true
   },
   "outputs": [
    {
     "name": "stderr",
     "output_type": "stream",
     "text": [
      "2025-04-21 14:35:59.380173: E external/local_xla/xla/stream_executor/cuda/cuda_fft.cc:477] Unable to register cuFFT factory: Attempting to register factory for plugin cuFFT when one has already been registered\n",
      "WARNING: All log messages before absl::InitializeLog() is called are written to STDERR\n",
      "E0000 00:00:1745246159.623863      31 cuda_dnn.cc:8310] Unable to register cuDNN factory: Attempting to register factory for plugin cuDNN when one has already been registered\n",
      "E0000 00:00:1745246159.698727      31 cuda_blas.cc:1418] Unable to register cuBLAS factory: Attempting to register factory for plugin cuBLAS when one has already been registered\n",
      "[nltk_data] Downloading package punkt to /usr/share/nltk_data...\n",
      "[nltk_data]   Package punkt is already up-to-date!\n",
      "[nltk_data] Downloading package punkt_tab to /usr/share/nltk_data...\n",
      "[nltk_data]   Package punkt_tab is already up-to-date!\n"
     ]
    },
    {
     "data": {
      "text/plain": [
       "True"
      ]
     },
     "execution_count": 2,
     "metadata": {},
     "output_type": "execute_result"
    }
   ],
   "source": [
    "import json\n",
    "import datasets\n",
    "import transformers\n",
    "import seqeval\n",
    "import torch\n",
    "from datasets import DatasetDict\n",
    "from transformers import AutoTokenizer, AutoModelForTokenClassification\n",
    "from transformers import DataCollatorForTokenClassification\n",
    "from transformers import TrainingArguments,Trainer\n",
    "from seqeval.metrics import classification_report\n",
    "import numpy as np\n",
    "from evaluate import load\n",
    "from collections import defaultdict\n",
    "from datasets import Dataset\n",
    "import nltk\n",
    "from nltk.tokenize import word_tokenize\n",
    "from datasets import Dataset\n",
    "\n",
    "nltk.download('punkt')\n",
    "nltk.download('punkt_tab')"
   ]
  },
  {
   "cell_type": "markdown",
   "metadata": {},
   "source": [
    "### Loading the Data Files"
   ]
  },
  {
   "cell_type": "code",
   "execution_count": 3,
   "metadata": {
    "execution": {
     "iopub.execute_input": "2025-04-21T14:36:36.913810Z",
     "iopub.status.busy": "2025-04-21T14:36:36.913127Z",
     "iopub.status.idle": "2025-04-21T14:36:36.936957Z",
     "shell.execute_reply": "2025-04-21T14:36:36.936409Z",
     "shell.execute_reply.started": "2025-04-21T14:36:36.913785Z"
    },
    "trusted": true
   },
   "outputs": [
    {
     "name": "stdout",
     "output_type": "stream",
     "text": [
      "\n",
      " FIRST ENTRY FOR PII DATASET\n",
      "{\n",
      "    \"id\": 8,\n",
      "    \"text\": \" hello, my name is lucas martinez. i'm reaching out regarding my recent tax filing. i received a notice about a discrepancy with my bank account number, which is 688388829776. please send any correspondence to 17101 east colfax avenue, aurora, colorado 80011. i would appreciate your assistance in resolving this matter.  additionally, i would like to request a detailed explanation of the discrepancy to better understand the issue.\",\n",
      "    \"label\": [\n",
      "        [\n",
      "            19,\n",
      "            33,\n",
      "            \"NAME\"\n",
      "        ],\n",
      "        [\n",
      "            162,\n",
      "            174,\n",
      "            \"BANK-ACCOUNT-NO\"\n",
      "        ],\n",
      "        [\n",
      "            210,\n",
      "            258,\n",
      "            \"ADDRESS\"\n",
      "        ]\n",
      "    ],\n",
      "    \"Comments\": []\n",
      "}\n"
     ]
    }
   ],
   "source": [
    "# Function to load JSONL file\n",
    "def load_jsonl(file_path):\n",
    "    with open(file_path, 'r') as f:\n",
    "        data = [json.loads(line) for line in f]\n",
    "\n",
    "    # Print a sample entry for debugging\n",
    "    print(\"\\n FIRST ENTRY FOR PII DATASET\")\n",
    "    print(json.dumps(data[7], indent=4))  # Pretty-print first entry\n",
    "    return data\n",
    "\n",
    "# Load data\n",
    "data = load_jsonl(\"/kaggle/input/pii-audios-annotation/PII_audios_annotation.jsonl\")"
   ]
  },
  {
   "cell_type": "markdown",
   "metadata": {},
   "source": [
    "### BIO-Format Mapping "
   ]
  },
  {
   "cell_type": "code",
   "execution_count": 4,
   "metadata": {
    "execution": {
     "iopub.execute_input": "2025-04-21T14:36:42.919531Z",
     "iopub.status.busy": "2025-04-21T14:36:42.919254Z",
     "iopub.status.idle": "2025-04-21T14:36:42.925092Z",
     "shell.execute_reply": "2025-04-21T14:36:42.924412Z",
     "shell.execute_reply.started": "2025-04-21T14:36:42.919504Z"
    },
    "trusted": true
   },
   "outputs": [],
   "source": [
    "# Define label mapping for NER\n",
    "label_map = {\n",
    "    \"NAME\": 1, \"ADDRESS\": 2, \"PHONE-NO\": 3,\n",
    "    \"BANK-ACCOUNT-NO\": 4, \"BANK-ROUTING-NO\": 5,\n",
    "    \"CREDIT-CARD-NO\": 6, \"SSN\": 7\n",
    "}\n",
    "\n",
    "# Reverse mapping for BIO labels\n",
    "bio_map = {v: k for k, v in label_map.items()}\n",
    "\n",
    "# Function to convert numerical labels to BIO format\n",
    "def convert_to_bio(tokens, ner_tags):\n",
    "    bio_labels = []\n",
    "    prev_label = 0  # Track previous label\n",
    "\n",
    "    for i, (token, tag) in enumerate(zip(tokens, ner_tags)):\n",
    "        if tag == 0:\n",
    "            bio_labels.append(\"O\")  # Default \"Outside\" label\n",
    "        else:\n",
    "            entity = bio_map[tag]\n",
    "            if i == 0 or tag != prev_label:  # Start of a new entity\n",
    "                bio_labels.append(f\"B-{entity}\")\n",
    "            else:\n",
    "                bio_labels.append(f\"I-{entity}\")\n",
    "        prev_label = tag  # Update previous label\n",
    "\n",
    "    return bio_labels"
   ]
  },
  {
   "cell_type": "code",
   "execution_count": 5,
   "metadata": {
    "execution": {
     "iopub.execute_input": "2025-04-21T14:36:48.649445Z",
     "iopub.status.busy": "2025-04-21T14:36:48.648809Z",
     "iopub.status.idle": "2025-04-21T14:36:48.654682Z",
     "shell.execute_reply": "2025-04-21T14:36:48.653625Z",
     "shell.execute_reply.started": "2025-04-21T14:36:48.649420Z"
    },
    "trusted": true
   },
   "outputs": [
    {
     "name": "stdout",
     "output_type": "stream",
     "text": [
      "\n",
      "BIO Label Mapping:\n",
      "{'O': 0, 'B-NAME': 1, 'I-NAME': 2, 'B-ADDRESS': 3, 'I-ADDRESS': 4, 'B-PHONE-NO': 5, 'I-PHONE-NO': 6, 'B-BANK-ACCOUNT-NO': 7, 'I-BANK-ACCOUNT-NO': 8, 'B-BANK-ROUTING-NO': 9, 'I-BANK-ROUTING-NO': 10, 'B-CREDIT-CARD-NO': 11, 'I-CREDIT-CARD-NO': 12, 'B-SSN': 13, 'I-SSN': 14}\n"
     ]
    }
   ],
   "source": [
    "def create_bio_label_map(label_map):\n",
    "    \"\"\"\n",
    "    Generates a mapping of BIO labels to integer IDs.\n",
    "\n",
    "    Args:\n",
    "        label_map (dict): Dictionary mapping entity types to IDs.\n",
    "\n",
    "    Returns:\n",
    "        dict: BIO label mapping { \"O\": 0, \"B-ENTITY\": X, \"I-ENTITY\": Y, ... }\n",
    "    \"\"\"\n",
    "    bio_map = {\"O\": 0}  # Default \"O\" tag\n",
    "\n",
    "    for entity, idx in label_map.items():\n",
    "        bio_map[f\"B-{entity}\"] = idx * 2 - 1  # Example: \"B-NAME\" → 1\n",
    "        bio_map[f\"I-{entity}\"] = idx * 2      # Example: \"I-NAME\" → 2\n",
    "\n",
    "    return bio_map\n",
    "\n",
    "# Create the BIO mapping\n",
    "bio_label_map = create_bio_label_map(label_map)\n",
    "\n",
    "# Debugging: Print the generated mapping\n",
    "print(\"\\nBIO Label Mapping:\")\n",
    "print(bio_label_map)"
   ]
  },
  {
   "cell_type": "markdown",
   "metadata": {},
   "source": [
    "### Data Preparation"
   ]
  },
  {
   "cell_type": "code",
   "execution_count": 6,
   "metadata": {
    "execution": {
     "iopub.execute_input": "2025-04-21T14:36:55.601795Z",
     "iopub.status.busy": "2025-04-21T14:36:55.601314Z",
     "iopub.status.idle": "2025-04-21T14:36:56.109035Z",
     "shell.execute_reply": "2025-04-21T14:36:56.108320Z",
     "shell.execute_reply.started": "2025-04-21T14:36:55.601771Z"
    },
    "trusted": true
   },
   "outputs": [
    {
     "name": "stdout",
     "output_type": "stream",
     "text": [
      "\n",
      "Sample Tokenized Text: ['hello', ',', 'my', 'name', 'is', 'sophia', 'thompson', '.', 'i', \"'m\", 'contacting', 'you', 'about', 'my', 'recent', 'tax', 'return', '.', 'i', 'received', 'a', 'letter', 'indicating', 'a', 'problem', 'with', 'my', 'social', 'security', 'number', 'which', 'is', '778353369.', 'please', 'reach', 'me', 'at', '9565835742', 'or', 'mail', 'me', 'at', '337-dario-fallsuite-518-hartford', ',', 'ct', '06890.', 'i', 'would', 'greatly', 'appreciate', 'your', 'assistance', 'in', 'clarifying', 'this', 'matter', '.', 'you']\n",
      "\n",
      "Sample Token-Label Pair:\n",
      "hello: O\n",
      ",: O\n",
      "my: O\n",
      "name: O\n",
      "is: O\n",
      "sophia: B-NAME\n",
      "thompson: I-NAME\n",
      ".: O\n",
      "i: O\n",
      "'m: O\n",
      "contacting: O\n",
      "you: O\n",
      "about: O\n",
      "my: O\n",
      "recent: O\n",
      "tax: O\n",
      "return: O\n",
      ".: O\n",
      "i: O\n",
      "received: O\n",
      "a: O\n",
      "letter: O\n",
      "indicating: O\n",
      "a: O\n",
      "problem: O\n",
      "with: O\n",
      "my: O\n",
      "social: O\n",
      "security: O\n",
      "number: O\n",
      "which: O\n",
      "is: O\n",
      "778353369.: B-SSN\n",
      "please: O\n",
      "reach: O\n",
      "me: O\n",
      "at: O\n",
      "9565835742: B-PHONE-NO\n",
      "or: O\n",
      "mail: O\n",
      "me: O\n",
      "at: O\n",
      "337-dario-fallsuite-518-hartford: B-ADDRESS\n",
      ",: I-ADDRESS\n",
      "ct: I-ADDRESS\n",
      "06890.: I-ADDRESS\n",
      "i: O\n",
      "would: O\n",
      "greatly: O\n",
      "appreciate: O\n",
      "your: O\n",
      "assistance: O\n",
      "in: O\n",
      "clarifying: O\n",
      "this: O\n",
      "matter: O\n",
      ".: O\n",
      "you: O\n"
     ]
    }
   ],
   "source": [
    "label_map = {\n",
    "    \"NAME\": 1, \"ADDRESS\": 2, \"PHONE-NO\": 3,\n",
    "    \"BANK-ACCOUNT-NO\": 4, \"BANK-ROUTING-NO\": 5,\n",
    "    \"CREDIT-CARD-NO\": 6, \"SSN\": 7\n",
    "}\n",
    "\n",
    "def convert_to_hf_format(data):\n",
    "    examples = {\"tokens\": [], \"ner_tags\": []}\n",
    "\n",
    "    for idx, item in enumerate(data):\n",
    "        text = item[\"text\"]\n",
    "        tokens = word_tokenize(text)  # Tokenize using nltk\n",
    "        labels = [0] * len(tokens)  # Default label (0)\n",
    "\n",
    "        # Track character positions of each token\n",
    "        token_spans = []\n",
    "        char_start = 0\n",
    "        for token in tokens:\n",
    "            start_index = text.find(token, char_start)\n",
    "            end_index = start_index + len(token)\n",
    "            token_spans.append((start_index, end_index))\n",
    "            char_start = end_index  # Move forward\n",
    "\n",
    "        # Assign labels\n",
    "        for start, end, label in item[\"label\"]:\n",
    "            for i, (token_start, token_end) in enumerate(token_spans):\n",
    "                # If token is inside the entity range, label it\n",
    "                if (token_start >= start and token_end <= end) or (token_start < end and token_end > start):\n",
    "                    labels[i] = label_map.get(label, 0)\n",
    "\n",
    "        # Convert to BIO format\n",
    "        bio_labels = convert_to_bio(text, labels)\n",
    "\n",
    "        examples[\"tokens\"].append(tokens)\n",
    "        examples[\"ner_tags\"].append(bio_labels)\n",
    "\n",
    "        # Debugging: Print first sample\n",
    "        if idx == 9:\n",
    "            print(\"\\nSample Tokenized Text:\", tokens)\n",
    "            print(\"\\nSample Token-Label Pair:\")\n",
    "            for token, tag in zip(tokens, bio_labels):\n",
    "                print(f\"{token}: {tag}\")\n",
    "\n",
    "    return Dataset.from_dict(examples)\n",
    "\n",
    "\n",
    "\n",
    "# Convert and debug dataset\n",
    "dataset = convert_to_hf_format(data)"
   ]
  },
  {
   "cell_type": "markdown",
   "metadata": {},
   "source": [
    "### loading the Model and the Tokenizer"
   ]
  },
  {
   "cell_type": "code",
   "execution_count": 7,
   "metadata": {
    "execution": {
     "iopub.execute_input": "2025-04-21T14:37:12.775480Z",
     "iopub.status.busy": "2025-04-21T14:37:12.774894Z",
     "iopub.status.idle": "2025-04-21T14:37:25.231137Z",
     "shell.execute_reply": "2025-04-21T14:37:25.230231Z",
     "shell.execute_reply.started": "2025-04-21T14:37:12.775454Z"
    },
    "trusted": true
   },
   "outputs": [
    {
     "data": {
      "application/vnd.jupyter.widget-view+json": {
       "model_id": "2f77b20e85e948ce8e4fb55bb368e2ab",
       "version_major": 2,
       "version_minor": 0
      },
      "text/plain": [
       "tokenizer_config.json:   0%|          | 0.00/52.0 [00:00<?, ?B/s]"
      ]
     },
     "metadata": {},
     "output_type": "display_data"
    },
    {
     "data": {
      "application/vnd.jupyter.widget-view+json": {
       "model_id": "298b66271edc4b1bbbb2545c3369b124",
       "version_major": 2,
       "version_minor": 0
      },
      "text/plain": [
       "config.json:   0%|          | 0.00/579 [00:00<?, ?B/s]"
      ]
     },
     "metadata": {},
     "output_type": "display_data"
    },
    {
     "name": "stderr",
     "output_type": "stream",
     "text": [
      "Xet Storage is enabled for this repo, but the 'hf_xet' package is not installed. Falling back to regular HTTP download. For better performance, install the package with: `pip install huggingface_hub[hf_xet]` or `pip install hf_xet`\n"
     ]
    },
    {
     "data": {
      "application/vnd.jupyter.widget-view+json": {
       "model_id": "20c405c6975e44eeb001a08977f3386c",
       "version_major": 2,
       "version_minor": 0
      },
      "text/plain": [
       "spm.model:   0%|          | 0.00/4.31M [00:00<?, ?B/s]"
      ]
     },
     "metadata": {},
     "output_type": "display_data"
    },
    {
     "name": "stderr",
     "output_type": "stream",
     "text": [
      "/usr/local/lib/python3.11/dist-packages/transformers/convert_slow_tokenizer.py:559: UserWarning: The sentencepiece tokenizer that you are converting to a fast tokenizer uses the byte fallback option which is not implemented in the fast tokenizers. In practice this means that the fast version of the tokenizer can produce unknown tokens whereas the sentencepiece version would have converted these unknown tokens into a sequence of byte tokens matching the original piece of text.\n",
      "  warnings.warn(\n",
      "Xet Storage is enabled for this repo, but the 'hf_xet' package is not installed. Falling back to regular HTTP download. For better performance, install the package with: `pip install huggingface_hub[hf_xet]` or `pip install hf_xet`\n"
     ]
    },
    {
     "data": {
      "application/vnd.jupyter.widget-view+json": {
       "model_id": "6df8d929852e4018bfae6a8e3c0cae44",
       "version_major": 2,
       "version_minor": 0
      },
      "text/plain": [
       "pytorch_model.bin:   0%|          | 0.00/1.33G [00:00<?, ?B/s]"
      ]
     },
     "metadata": {},
     "output_type": "display_data"
    },
    {
     "name": "stderr",
     "output_type": "stream",
     "text": [
      "Xet Storage is enabled for this repo, but the 'hf_xet' package is not installed. Falling back to regular HTTP download. For better performance, install the package with: `pip install huggingface_hub[hf_xet]` or `pip install hf_xet`\n"
     ]
    },
    {
     "data": {
      "application/vnd.jupyter.widget-view+json": {
       "model_id": "9fb5b3f76cf04d8386bd573132bfd73a",
       "version_major": 2,
       "version_minor": 0
      },
      "text/plain": [
       "model.safetensors:   0%|          | 0.00/1.33G [00:00<?, ?B/s]"
      ]
     },
     "metadata": {},
     "output_type": "display_data"
    },
    {
     "name": "stderr",
     "output_type": "stream",
     "text": [
      "Some weights of DebertaV2ForTokenClassification were not initialized from the model checkpoint at microsoft/mdeberta-v3-base and are newly initialized: ['classifier.bias', 'classifier.weight']\n",
      "You should probably TRAIN this model on a down-stream task to be able to use it for predictions and inference.\n"
     ]
    }
   ],
   "source": [
    "from transformers import AutoTokenizer, AutoModelForTokenClassification\n",
    "\n",
    "# Define model checkpoint\n",
    "model_checkpoint = \"microsoft/mdeberta-v3-base\"\n",
    "\n",
    "# Load tokenizer\n",
    "tokenizer = AutoTokenizer.from_pretrained(model_checkpoint)\n",
    "\n",
    "# Define the number of labels\n",
    "num_labels = len(bio_label_map)  # Total number of NER labels\n",
    "\n",
    "# Load model with the correct number of labels\n",
    "model = AutoModelForTokenClassification.from_pretrained(model_checkpoint, num_labels=num_labels,id2label={i: label for label, i in bio_label_map.items()},\n",
    "    label2id=bio_label_map)"
   ]
  },
  {
   "cell_type": "markdown",
   "metadata": {},
   "source": [
    "### Aligning the Token with their Output"
   ]
  },
  {
   "cell_type": "code",
   "execution_count": null,
   "metadata": {
    "execution": {
     "iopub.execute_input": "2025-04-21T14:37:39.713742Z",
     "iopub.status.busy": "2025-04-21T14:37:39.713192Z",
     "iopub.status.idle": "2025-04-21T14:37:40.129769Z",
     "shell.execute_reply": "2025-04-21T14:37:40.128936Z",
     "shell.execute_reply.started": "2025-04-21T14:37:39.713720Z"
    },
    "trusted": true
   },
   "outputs": [
    {
     "data": {
      "application/vnd.jupyter.widget-view+json": {
       "model_id": "84930856b1274d069edd5542dc81865f",
       "version_major": 2,
       "version_minor": 0
      },
      "text/plain": [
       "Map:   0%|          | 0/1087 [00:00<?, ? examples/s]"
      ]
     },
     "metadata": {},
     "output_type": "display_data"
    },
    {
     "name": "stdout",
     "output_type": "stream",
     "text": [
      "Processing example 0\n",
      "Tokens: ['hello', ',', 'my', 'name', 'is', 'benjamin', 'carter', '.', 'i', \"'m\", 'contacting', 'you', 'about', 'an', 'issue', 'with', 'my', 'tax', 'return', 'from', 'last', 'year', '.', 'there', 'seems', 'to', 'be', 'a', 'problem', 'with', 'my', 'bank', 'account', 'number', 'for', '873153717', ',', 'and', 'i', 'believe', 'my', 'social', 'security', 'number', '589-90-4308', 'is', 'incorrect', 'in', 'your', 'records', '.', 'i', \"'ve\", 'already', 'attempted', 'to', 'resolve', 'this', 'issue', 'online', ',', 'but', 'did', \"n't\", 'receive', 'a', 'response', '.', 'additionally', ',', 'this', 'delay', 'has', 'caused', 'me', 'to', 'miss', 'the', 'filing', 'deadline', ',', 'which', 'could', 'result', 'in', 'penalties', '.', 'please', 'verify', 'the', 'information', 'and', 'reach', 'out', 'to', 'me', 'at', '416-557-3342.', 'thank', 'you', 'for', 'your', 'help', 'in', 'resolving', 'this', 'matter', 'quickly', '.']\n",
      "Tokenized input IDs: [1, 124394, 260, 262, 1038, 6536, 340, 260, 237138, 13072, 287, 260, 261, 260, 267, 260, 278, 283, 4712, 348, 522, 1389, 462, 13798, 515, 1038, 11578, 4650, 703, 3168, 3722, 260, 261, 2109, 12123, 264, 289, 391, 260, 263, 3092, 515, 1038, 4897, 9495, 4404, 333, 260, 42684, 172244, 1654, 260, 262, 306, 260, 267, 260, 14038, 1038, 2944, 20318, 4404, 149469, 37658, 59689, 2839, 340, 282, 64778, 282, 773, 260, 51972, 260, 261, 260, 267, 260, 278, 858, 260, 13988, 345, 22335, 346, 289, 77294, 715, 13798, 863, 260, 262, 1157, 3032, 260, 273, 278, 271, 11244, 260, 263, 17673, 260, 261, 260, 14897, 485, 260, 262, 715, 260, 41753, 1071, 26472, 346, 417, 289, 11410, 288, 4836, 348, 260, 99970, 260, 262, 260, 1543, 260, 3660, 8107, 282, 19209, 3306, 260, 261, 10152, 205169, 277, 288, 2884, 306, 260, 11126, 1351, 289, 417, 345, 99459, 46263, 176075, 96226, 31638, 522, 333, 773, 2115, 282, 126922, 348, 715, 20983, 13820, 485, 260, 261, 2]\n",
      "Word IDs: [None, 0, 1, 1, 2, 3, 4, 5, 5, 6, 6, 7, 7, 8, 8, 9, 9, 9, 10, 10, 11, 12, 13, 14, 15, 16, 17, 18, 19, 20, 21, 22, 22, 23, 24, 24, 25, 26, 27, 27, 28, 29, 30, 31, 32, 33, 34, 35, 35, 35, 35, 36, 36, 37, 38, 38, 39, 39, 40, 41, 42, 43, 44, 44, 44, 44, 45, 46, 46, 47, 48, 49, 49, 50, 50, 51, 51, 52, 52, 52, 53, 53, 54, 54, 54, 55, 56, 57, 58, 59, 60, 60, 61, 62, 63, 63, 63, 63, 64, 65, 65, 66, 67, 67, 68, 68, 68, 69, 69, 70, 71, 71, 72, 73, 73, 74, 75, 76, 77, 78, 78, 79, 79, 80, 80, 81, 81, 82, 82, 83, 84, 85, 85, 86, 86, 87, 88, 88, 89, 90, 91, 92, 92, 93, 94, 95, 96, 97, 97, 97, 97, 98, 99, 100, 101, 102, 103, 104, 104, 105, 106, 107, 107, 108, 108, None]\n",
      "Original Labels: ['O', 'O', 'O', 'O', 'O', 'B-NAME', 'I-NAME', 'O', 'O', 'O', 'O', 'O', 'O', 'O', 'O', 'O', 'O', 'O', 'O', 'O', 'O', 'O', 'O', 'O', 'O', 'O', 'O', 'O', 'O', 'O', 'O', 'O', 'O', 'O', 'O', 'B-BANK-ACCOUNT-NO', 'O', 'O', 'O', 'O', 'O', 'O', 'O', 'O', 'B-SSN', 'O', 'O', 'O', 'O', 'O', 'O', 'O', 'O', 'O', 'O', 'O', 'O', 'O', 'O', 'O', 'O', 'O', 'O', 'O', 'O', 'O', 'O', 'O', 'O', 'O', 'O', 'O', 'O', 'O', 'O', 'O', 'O', 'O', 'O', 'O', 'O', 'O', 'O', 'O', 'O', 'O', 'O', 'O', 'O', 'O', 'O', 'O', 'O', 'O', 'O', 'O', 'O', 'B-PHONE-NO', 'O', 'O', 'O', 'O', 'O', 'O', 'O', 'O', 'O', 'O', 'O']\n",
      "Aligned Labels: [-100, 0, 0, 0, 0, 0, 0, 1, 1, 2, 2, 0, 0, 0, 0, 0, 0, 0, 0, 0, 0, 0, 0, 0, 0, 0, 0, 0, 0, 0, 0, 0, 0, 0, 0, 0, 0, 0, 0, 0, 0, 0, 0, 0, 0, 0, 0, 7, 7, 7, 7, 0, 0, 0, 0, 0, 0, 0, 0, 0, 0, 0, 13, 13, 13, 13, 0, 0, 0, 0, 0, 0, 0, 0, 0, 0, 0, 0, 0, 0, 0, 0, 0, 0, 0, 0, 0, 0, 0, 0, 0, 0, 0, 0, 0, 0, 0, 0, 0, 0, 0, 0, 0, 0, 0, 0, 0, 0, 0, 0, 0, 0, 0, 0, 0, 0, 0, 0, 0, 0, 0, 0, 0, 0, 0, 0, 0, 0, 0, 0, 0, 0, 0, 0, 0, 0, 0, 0, 0, 0, 0, 0, 0, 0, 0, 0, 0, 5, 5, 5, 5, 0, 0, 0, 0, 0, 0, 0, 0, 0, 0, 0, 0, 0, 0, -100]\n",
      "Length of input IDs: 166, Length of Labels: 166\n",
      "\n",
      "Processing example 1\n",
      "Tokens: ['hi', ',', 'this', 'is', 'henry', 'adams', '.', 'i', \"'ve\", 'encountered', 'an', 'issue', 'with', 'my', 'gas', 'service', '.', 'the', 'gas', 'service', 'at', 'my', 'home', '8839', 'schoenloe', ',', 'phoenix', ',', 'az', '85079', 'was', 'suddenly', 'disconnected', 'despite', 'making', 'a', 'payment', '.', 'i', \"'m\", 'quite', 'certain', 'the', 'payment', 'went', 'through', ',', 'but', 'my', 'service', 'was', 'cut', 'off', 'yesterday', 'and', 'i', 'have', \"n't\", 'been', 'able', 'to', 'reach', 'anyone', 'by', 'phone', '.', 'this', 'is', 'causing', 'a', 'major', 'inconvenience', 'for', 'my', 'family', '.', 'could', 'you', 'please', 'look', 'into', 'the', 'payment', 'and', 'restore', 'my', 'service', 'as', 'soon', 'as', 'possible', '?']\n",
      "Tokenized input IDs: [1, 1824, 260, 262, 715, 340, 11705, 1473, 31465, 264, 260, 261, 260, 267, 260, 278, 858, 290, 22083, 346, 462, 13798, 515, 1038, 6550, 2946, 260, 261, 288, 6550, 2946, 345, 1038, 2587, 260, 184266, 260, 155563, 879, 266, 260, 262, 260, 210197, 260, 262, 710, 37677, 6450, 640, 11941, 881, 485, 2452, 38282, 270, 40182, 260, 8474, 260, 263, 23083, 260, 261, 260, 267, 260, 278, 283, 260, 9192, 260, 5583, 288, 23083, 260, 14197, 3027, 260, 262, 1157, 1038, 2946, 640, 35425, 4369, 73297, 306, 260, 267, 784, 260, 273, 278, 271, 2102, 260, 1060, 289, 260, 11126, 260, 263, 38227, 456, 11348, 260, 261, 715, 340, 26472, 348, 260, 263, 9678, 282, 177430, 266, 333, 1038, 7191, 260, 261, 260, 3660, 522, 10152, 4090, 2388, 288, 23083, 306, 260, 112234, 1038, 2946, 528, 20816, 528, 6645, 260, 292, 2]\n",
      "Word IDs: [None, 0, 1, 1, 2, 3, 4, 4, 5, 5, 6, 6, 7, 7, 8, 8, 8, 9, 9, 9, 10, 11, 12, 13, 14, 15, 16, 16, 17, 18, 19, 20, 21, 22, 23, 23, 24, 24, 24, 24, 25, 25, 26, 26, 27, 27, 28, 29, 29, 30, 31, 31, 31, 32, 32, 33, 33, 34, 34, 35, 35, 36, 37, 37, 38, 38, 39, 39, 39, 40, 40, 41, 41, 42, 43, 44, 44, 45, 46, 46, 47, 48, 49, 50, 51, 52, 53, 54, 55, 55, 56, 57, 57, 57, 57, 58, 59, 59, 60, 61, 61, 62, 62, 62, 63, 64, 65, 65, 66, 67, 68, 68, 69, 69, 70, 71, 71, 71, 72, 73, 74, 75, 75, 76, 76, 77, 78, 79, 80, 81, 82, 83, 84, 84, 85, 86, 87, 88, 89, 90, 91, 91, None]\n",
      "Original Labels: ['O', 'O', 'O', 'O', 'B-NAME', 'I-NAME', 'O', 'O', 'O', 'O', 'O', 'O', 'O', 'O', 'O', 'O', 'O', 'O', 'O', 'O', 'O', 'O', 'O', 'B-ADDRESS', 'I-ADDRESS', 'I-ADDRESS', 'I-ADDRESS', 'I-ADDRESS', 'I-ADDRESS', 'I-ADDRESS', 'O', 'O', 'O', 'O', 'O', 'O', 'O', 'O', 'O', 'O', 'O', 'O', 'O', 'O', 'O', 'O', 'O', 'O', 'O', 'O', 'O', 'O', 'O', 'O', 'O', 'O', 'O', 'O', 'O', 'O', 'O', 'O', 'O', 'O', 'O', 'O', 'O', 'O', 'O', 'O', 'O', 'O', 'O', 'O', 'O', 'O', 'O', 'O', 'O', 'O', 'O', 'O', 'O', 'O', 'O', 'O', 'O', 'O', 'O', 'O', 'O', 'O']\n",
      "Aligned Labels: [-100, 0, 0, 0, 0, 0, 1, 1, 2, 2, 0, 0, 0, 0, 0, 0, 0, 0, 0, 0, 0, 0, 0, 0, 0, 0, 0, 0, 0, 0, 0, 0, 0, 0, 3, 3, 4, 4, 4, 4, 4, 4, 4, 4, 4, 4, 4, 4, 4, 0, 0, 0, 0, 0, 0, 0, 0, 0, 0, 0, 0, 0, 0, 0, 0, 0, 0, 0, 0, 0, 0, 0, 0, 0, 0, 0, 0, 0, 0, 0, 0, 0, 0, 0, 0, 0, 0, 0, 0, 0, 0, 0, 0, 0, 0, 0, 0, 0, 0, 0, 0, 0, 0, 0, 0, 0, 0, 0, 0, 0, 0, 0, 0, 0, 0, 0, 0, 0, 0, 0, 0, 0, 0, 0, 0, 0, 0, 0, 0, 0, 0, 0, 0, 0, 0, 0, 0, 0, 0, 0, 0, 0, -100]\n",
      "Length of input IDs: 143, Length of Labels: 143\n",
      "\n",
      "Processing example 2\n",
      "Tokens: ['hi', ',', 'i', \"'m\", 'michael', 'davis', '.', 'i', \"'ve\", 'noticed', 'a', 'suspicious', 'and', 'unauthorized', 'charge', 'on', 'my', 'credit', 'card', '1370-3763-5608-4596.', 'i', \"'m\", 'not', 'sure', 'how', 'this', 'transaction', 'occurred', ',', 'as', 'i', \"'ve\", 'never', 'made', 'any', 'purchases', 'at', 'the', 'store', 'in', 'question', ',', 'and', 'i', 'have', \"n't\", 'lost', 'my', 'card', '.', 'i', \"'ve\", 'already', 'contacted', 'the', 'merchant', ',', 'but', 'they', 'directed', 'me', 'to', 'the', 'bank', 'to', 'resolve', 'the', 'dispute', '.', 'could', 'you', 'please', 'initiate', 'an', 'investigation', 'and', 'possibly', 'freeze', 'my', 'card', 'to', 'prevent', 'further', 'unauthorized', 'activity', '?', 'please', 'contact', 'me', 'at', '708-926-9979', 'as', 'soon', 'as', 'possible', '.', 'thank', 'you', 'for', 'your', 'help', '.']\n",
      "Tokenized input IDs: [1, 1824, 260, 262, 260, 267, 260, 278, 283, 136635, 351, 2059, 260, 261, 260, 267, 260, 278, 858, 260, 21281, 286, 260, 263, 133634, 75668, 306, 336, 181267, 346, 11752, 352, 1038, 10407, 10169, 260, 150217, 265, 197362, 265, 40586, 128013, 75834, 261, 260, 267, 260, 278, 283, 777, 7780, 2607, 715, 80235, 29480, 4197, 260, 262, 528, 260, 267, 260, 278, 858, 8104, 3786, 1538, 17980, 264, 345, 288, 5318, 282, 7681, 260, 262, 306, 260, 267, 784, 260, 273, 278, 271, 38187, 1038, 10169, 260, 261, 260, 267, 260, 278, 858, 260, 13988, 4712, 346, 288, 260, 128506, 260, 262, 1157, 288, 277, 3868, 346, 417, 289, 288, 4897, 289, 77294, 288, 260, 153536, 260, 261, 260, 3660, 522, 10152, 134227, 266, 462, 260, 40558, 306, 72082, 277, 260, 147592, 1038, 10169, 289, 34057, 260, 17757, 336, 181267, 346, 30271, 260, 292, 10152, 4712, 417, 345, 162340, 265, 46428, 265, 210274, 528, 20816, 528, 6645, 260, 261, 31638, 522, 333, 773, 2115, 260, 261, 2]\n",
      "Word IDs: [None, 0, 1, 1, 2, 2, 3, 3, 3, 4, 5, 5, 6, 6, 7, 7, 8, 8, 8, 9, 9, 9, 10, 10, 11, 11, 12, 13, 13, 13, 14, 15, 16, 17, 18, 19, 19, 19, 19, 19, 19, 19, 19, 19, 20, 20, 21, 21, 21, 22, 23, 24, 25, 26, 27, 27, 28, 28, 29, 30, 30, 31, 31, 31, 32, 33, 34, 35, 35, 36, 37, 38, 39, 40, 41, 41, 42, 43, 43, 44, 45, 45, 45, 45, 46, 47, 48, 49, 49, 50, 50, 51, 51, 51, 52, 52, 53, 53, 54, 55, 55, 56, 56, 57, 58, 58, 59, 59, 60, 61, 62, 63, 64, 65, 66, 67, 67, 68, 68, 69, 69, 70, 71, 72, 72, 73, 74, 74, 75, 76, 76, 77, 77, 78, 79, 80, 81, 82, 82, 83, 83, 83, 84, 85, 85, 86, 87, 88, 89, 90, 90, 90, 90, 90, 91, 92, 93, 94, 95, 95, 96, 97, 98, 99, 100, 101, 101, None]\n",
      "Original Labels: ['O', 'O', 'O', 'O', 'B-NAME', 'I-NAME', 'O', 'O', 'O', 'O', 'O', 'O', 'O', 'O', 'O', 'O', 'O', 'O', 'O', 'B-CREDIT-CARD-NO', 'O', 'O', 'O', 'O', 'O', 'O', 'O', 'O', 'O', 'O', 'O', 'O', 'O', 'O', 'O', 'O', 'O', 'O', 'O', 'O', 'O', 'O', 'O', 'O', 'O', 'O', 'O', 'O', 'O', 'O', 'O', 'O', 'O', 'O', 'O', 'O', 'O', 'O', 'O', 'O', 'O', 'O', 'O', 'O', 'O', 'O', 'O', 'O', 'O', 'O', 'O', 'O', 'O', 'O', 'O', 'O', 'O', 'O', 'O', 'O', 'O', 'O', 'O', 'O', 'O', 'O', 'O', 'O', 'O', 'O', 'B-PHONE-NO', 'O', 'O', 'O', 'O', 'O', 'O', 'O', 'O', 'O', 'O', 'O']\n",
      "Aligned Labels: [-100, 0, 0, 0, 0, 0, 0, 0, 0, 1, 2, 2, 0, 0, 0, 0, 0, 0, 0, 0, 0, 0, 0, 0, 0, 0, 0, 0, 0, 0, 0, 0, 0, 0, 0, 11, 11, 11, 11, 11, 11, 11, 11, 11, 0, 0, 0, 0, 0, 0, 0, 0, 0, 0, 0, 0, 0, 0, 0, 0, 0, 0, 0, 0, 0, 0, 0, 0, 0, 0, 0, 0, 0, 0, 0, 0, 0, 0, 0, 0, 0, 0, 0, 0, 0, 0, 0, 0, 0, 0, 0, 0, 0, 0, 0, 0, 0, 0, 0, 0, 0, 0, 0, 0, 0, 0, 0, 0, 0, 0, 0, 0, 0, 0, 0, 0, 0, 0, 0, 0, 0, 0, 0, 0, 0, 0, 0, 0, 0, 0, 0, 0, 0, 0, 0, 0, 0, 0, 0, 0, 0, 0, 0, 0, 0, 0, 0, 0, 0, 5, 5, 5, 5, 5, 0, 0, 0, 0, 0, 0, 0, 0, 0, 0, 0, 0, 0, -100]\n",
      "Length of input IDs: 168, Length of Labels: 168\n",
      "\n",
      "Processing example 0\n",
      "Tokens: ['Hello', ',', 'this', 'is', 'Ms.', 'Serena', 'V.', 'Bennett', '.', 'I', \"'m\", 'reporting', 'an', 'issue', 'with', 'my', 'recent', 'payment', 'to', 'the', 'DMV', '.', 'I', 'used', 'routing', 'number', '084009728', 'and', 'the', 'account', 'number', 'was', '22017700443266', '.', 'The', 'card', 'used', 'was', '41119938822.', 'and', 'I', 'provided', 'Social', 'Security', 'number', '633-227100', 'for', 'verification', '.', 'My', 'address', 'is', '411', 'West', 'Brookside', 'Boulevard', ',', 'apartment', 'number', '10A', ',', 'Oklahoma', 'City', ',', 'Oklahoma', ',', 'and', 'I', 'can', 'be', 'reached', 'at', '405-990-8822', '.']\n",
      "Tokenized input IDs: [1, 30274, 260, 262, 715, 340, 353, 264, 261, 260, 113230, 435, 261, 365, 158213, 260, 261, 337, 260, 278, 283, 260, 89222, 462, 13798, 515, 1038, 5377, 23083, 289, 288, 432, 19835, 260, 261, 337, 4166, 140912, 348, 4404, 260, 51718, 215814, 1796, 306, 288, 9495, 4404, 640, 13086, 82256, 17580, 223773, 260, 261, 487, 10169, 4166, 640, 108521, 67363, 119826, 261, 306, 337, 260, 15645, 6099, 19005, 4404, 147265, 24067, 125211, 333, 260, 122418, 260, 261, 2369, 14131, 340, 108521, 4301, 61816, 4406, 260, 86208, 260, 262, 22264, 4404, 476, 358, 260, 262, 260, 48312, 2741, 260, 262, 260, 48312, 260, 262, 306, 337, 739, 391, 260, 11126, 346, 345, 80959, 265, 51615, 265, 119826, 260, 261, 2]\n",
      "Word IDs: [None, 0, 1, 1, 2, 3, 4, 4, 4, 5, 5, 6, 6, 7, 7, 8, 8, 9, 10, 10, 10, 11, 11, 12, 13, 14, 15, 16, 17, 18, 19, 20, 20, 21, 21, 22, 23, 24, 24, 25, 26, 26, 26, 26, 27, 28, 29, 30, 31, 32, 32, 32, 32, 33, 33, 34, 35, 36, 37, 38, 38, 38, 38, 39, 40, 41, 41, 42, 43, 44, 45, 45, 45, 46, 47, 47, 48, 48, 49, 50, 51, 52, 53, 54, 54, 55, 55, 56, 56, 57, 58, 59, 59, 60, 60, 61, 61, 62, 63, 63, 64, 64, 65, 65, 66, 67, 68, 69, 70, 70, 70, 71, 72, 72, 72, 72, 72, 73, 73, None]\n",
      "Original Labels: ['O', 'O', 'O', 'O', 'B-NAME', 'I-NAME', 'I-NAME', 'I-NAME', 'O', 'O', 'O', 'O', 'O', 'O', 'O', 'O', 'O', 'O', 'O', 'O', 'O', 'O', 'O', 'O', 'O', 'O', 'B-BANK-ROUTING-NO', 'O', 'O', 'O', 'O', 'O', 'B-BANK-ACCOUNT-NO', 'O', 'O', 'O', 'O', 'O', 'O', 'O', 'O', 'O', 'O', 'O', 'O', 'B-SSN', 'O', 'O', 'O', 'O', 'O', 'O', 'B-ADDRESS', 'I-ADDRESS', 'I-ADDRESS', 'I-ADDRESS', 'I-ADDRESS', 'I-ADDRESS', 'I-ADDRESS', 'I-ADDRESS', 'I-ADDRESS', 'I-ADDRESS', 'I-ADDRESS', 'I-ADDRESS', 'I-ADDRESS', 'O', 'O', 'O', 'O', 'O', 'O', 'O', 'B-PHONE-NO', 'O']\n",
      "Aligned Labels: [-100, 0, 0, 0, 0, 0, 1, 1, 1, 2, 2, 2, 2, 2, 2, 0, 0, 0, 0, 0, 0, 0, 0, 0, 0, 0, 0, 0, 0, 0, 0, 0, 0, 0, 0, 0, 0, 0, 0, 0, 9, 9, 9, 9, 0, 0, 0, 0, 0, 7, 7, 7, 7, 0, 0, 0, 0, 0, 0, 0, 0, 0, 0, 0, 0, 0, 0, 0, 0, 0, 13, 13, 13, 0, 0, 0, 0, 0, 0, 0, 0, 3, 4, 4, 4, 4, 4, 4, 4, 4, 4, 4, 4, 4, 4, 4, 4, 4, 4, 4, 4, 4, 0, 0, 0, 0, 0, 0, 0, 0, 0, 0, 5, 5, 5, 5, 5, 0, 0, -100]\n",
      "Length of input IDs: 120, Length of Labels: 120\n",
      "\n",
      "Processing example 1\n",
      "Tokens: ['Hi', ',', 'this', 'is', 'Ms.', 'Leah', 'M.', 'Stokes', 'and', 'I', \"'m\", 'checking', 'on', 'my', 'refund', '.', 'I', 'gave', 'the', 'IRS', 'Social', 'Security', 'Number', '621981103', '.', 'The', 'deposit', 'was', 'sent', 'to', 'Routing', '121000358', '.', 'Account', '44996600772288', '.', 'The', 'card', 'I', 'used', 'to', 'verify', 'was', '4111-8800-1122-3344', '.', 'I', 'live', 'at', '84', 'South', 'Bluff', 'Road', ',', 'Bismarck', ',', 'North', 'Dakota', 'and', 'my', 'phone', 'is', '701-666-4432', '.']\n",
      "Tokenized input IDs: [1, 3486, 260, 262, 715, 340, 353, 264, 261, 765, 1844, 353, 261, 49811, 300, 306, 337, 260, 278, 283, 4246, 348, 352, 1038, 95857, 260, 261, 337, 22162, 288, 260, 116210, 6099, 19005, 15663, 8951, 68952, 27444, 260, 261, 487, 11279, 640, 8408, 289, 143728, 348, 645, 6372, 63741, 260, 261, 27102, 4695, 70328, 195154, 166957, 260, 261, 487, 10169, 337, 4166, 289, 205169, 277, 640, 260, 175061, 265, 92096, 265, 101538, 265, 123821, 260, 261, 337, 4658, 345, 10577, 6175, 365, 139309, 6232, 260, 262, 13634, 123363, 315, 260, 262, 6425, 60078, 306, 1038, 11348, 340, 128812, 265, 13963, 47255, 3323, 260, 261, 2]\n",
      "Word IDs: [None, 0, 1, 1, 2, 3, 4, 4, 4, 5, 5, 6, 6, 7, 7, 8, 9, 10, 10, 10, 11, 11, 12, 13, 14, 15, 15, 16, 17, 18, 19, 19, 20, 21, 22, 23, 23, 23, 24, 24, 25, 26, 27, 28, 29, 30, 30, 31, 31, 31, 32, 32, 33, 34, 34, 34, 34, 35, 35, 36, 37, 38, 39, 40, 41, 41, 42, 43, 43, 43, 43, 43, 43, 43, 43, 44, 44, 45, 46, 47, 48, 49, 50, 50, 51, 52, 52, 53, 53, 53, 54, 54, 55, 56, 57, 58, 59, 60, 61, 61, 61, 61, 61, 62, 62, None]\n",
      "Original Labels: ['O', 'O', 'O', 'O', 'B-NAME', 'I-NAME', 'I-NAME', 'I-NAME', 'O', 'O', 'O', 'O', 'O', 'O', 'O', 'O', 'O', 'O', 'O', 'O', 'O', 'O', 'O', 'B-SSN', 'O', 'O', 'O', 'O', 'O', 'O', 'O', 'B-BANK-ROUTING-NO', 'O', 'O', 'B-BANK-ACCOUNT-NO', 'O', 'O', 'O', 'O', 'O', 'O', 'O', 'O', 'B-CREDIT-CARD-NO', 'O', 'O', 'O', 'O', 'B-ADDRESS', 'I-ADDRESS', 'I-ADDRESS', 'I-ADDRESS', 'I-ADDRESS', 'I-ADDRESS', 'I-ADDRESS', 'I-ADDRESS', 'I-ADDRESS', 'O', 'O', 'O', 'O', 'B-PHONE-NO', 'O']\n",
      "Aligned Labels: [-100, 0, 0, 0, 0, 0, 1, 1, 1, 2, 2, 2, 2, 2, 2, 0, 0, 0, 0, 0, 0, 0, 0, 0, 0, 0, 0, 0, 0, 0, 0, 0, 0, 0, 0, 13, 13, 13, 0, 0, 0, 0, 0, 0, 0, 0, 0, 9, 9, 9, 0, 0, 0, 7, 7, 7, 7, 0, 0, 0, 0, 0, 0, 0, 0, 0, 0, 11, 11, 11, 11, 11, 11, 11, 11, 0, 0, 0, 0, 0, 3, 4, 4, 4, 4, 4, 4, 4, 4, 4, 4, 4, 4, 4, 0, 0, 0, 0, 5, 5, 5, 5, 5, 0, 0, -100]\n",
      "Length of input IDs: 106, Length of Labels: 106\n",
      "\n",
      "Processing example 2\n",
      "Tokens: ['Good', 'morning', ',', 'this', 'is', 'Mrs.', 'Melanie', 'J.', 'Patel', '.', 'I', \"'d\", 'like', 'to', 'know', 'if', 'my', 'payment', 'for', 'car', 'registration', 'went', 'through', '.', 'I', 'use', 'routing', 'number', '125-000-105', 'and', 'account', 'number', '7700-4411-998813', '.', 'My', 'social', 'security', 'number', 'is', '709-22-4466.', 'and', 'my', 'card', 'was', '4539-8877-2200-3412', '.', 'The', 'address', 'is', '221', 'Eagle', 'Pine', 'Court', ',', 'Unit', '10A', ',', 'Albuquerque', ',', 'New', 'Mexico', ',', 'and', 'I', 'can', 'be', 'contacted', 'at', '505-772-6601', '.']\n",
      "Tokenized input IDs: [1, 8205, 25470, 260, 262, 715, 340, 6899, 264, 261, 353, 151778, 665, 261, 1575, 2367, 260, 261, 337, 260, 278, 286, 1470, 289, 3077, 956, 1038, 23083, 333, 2352, 66490, 260, 14197, 3027, 260, 261, 337, 2226, 140912, 348, 4404, 9272, 265, 10875, 137626, 306, 9495, 4404, 260, 122570, 265, 206009, 265, 189778, 1580, 260, 261, 2369, 2944, 20318, 4404, 340, 159092, 131136, 196634, 261, 306, 1038, 10169, 640, 2716, 108827, 148699, 265, 80363, 265, 230618, 260, 261, 487, 14131, 340, 61263, 49936, 33903, 14504, 260, 262, 12616, 476, 358, 260, 262, 110696, 6106, 922, 260, 262, 1362, 24447, 260, 262, 306, 337, 739, 391, 4712, 346, 345, 89343, 103590, 77371, 52567, 260, 261, 2]\n",
      "Word IDs: [None, 0, 1, 2, 2, 3, 4, 5, 5, 5, 6, 6, 7, 7, 8, 8, 9, 9, 10, 11, 11, 11, 12, 13, 14, 15, 16, 17, 18, 19, 20, 21, 21, 22, 23, 23, 24, 25, 26, 26, 27, 28, 28, 28, 28, 29, 30, 31, 32, 32, 32, 32, 32, 32, 32, 33, 33, 34, 35, 36, 37, 38, 39, 39, 39, 39, 40, 41, 42, 43, 44, 44, 44, 44, 44, 44, 44, 45, 45, 46, 47, 48, 49, 50, 51, 52, 53, 53, 54, 55, 55, 56, 56, 57, 57, 57, 58, 58, 59, 60, 61, 61, 62, 63, 64, 65, 66, 66, 67, 68, 68, 68, 68, 69, 69, None]\n",
      "Original Labels: ['O', 'O', 'O', 'O', 'O', 'B-NAME', 'I-NAME', 'I-NAME', 'I-NAME', 'O', 'O', 'O', 'O', 'O', 'O', 'O', 'O', 'O', 'O', 'O', 'O', 'O', 'O', 'O', 'O', 'O', 'O', 'O', 'B-BANK-ROUTING-NO', 'O', 'O', 'O', 'B-BANK-ACCOUNT-NO', 'O', 'O', 'O', 'O', 'O', 'O', 'B-SSN', 'O', 'O', 'O', 'O', 'B-CREDIT-CARD-NO', 'O', 'O', 'O', 'O', 'B-ADDRESS', 'I-ADDRESS', 'I-ADDRESS', 'I-ADDRESS', 'I-ADDRESS', 'I-ADDRESS', 'I-ADDRESS', 'I-ADDRESS', 'I-ADDRESS', 'I-ADDRESS', 'I-ADDRESS', 'I-ADDRESS', 'O', 'O', 'O', 'O', 'O', 'O', 'O', 'B-PHONE-NO', 'O']\n",
      "Aligned Labels: [-100, 0, 0, 0, 0, 0, 0, 1, 1, 1, 2, 2, 2, 2, 2, 2, 0, 0, 0, 0, 0, 0, 0, 0, 0, 0, 0, 0, 0, 0, 0, 0, 0, 0, 0, 0, 0, 0, 0, 0, 0, 9, 9, 9, 9, 0, 0, 0, 7, 7, 7, 7, 7, 7, 7, 0, 0, 0, 0, 0, 0, 0, 13, 13, 13, 13, 0, 0, 0, 0, 11, 11, 11, 11, 11, 11, 11, 0, 0, 0, 0, 0, 3, 4, 4, 4, 4, 4, 4, 4, 4, 4, 4, 4, 4, 4, 4, 4, 4, 4, 0, 0, 0, 0, 0, 0, 0, 0, 0, 5, 5, 5, 5, 0, 0, -100]\n",
      "Length of input IDs: 116, Length of Labels: 116\n",
      "\n"
     ]
    }
   ],
   "source": [
    "label_all_tokens = True\n",
    "\n",
    "def tokenize_and_align_labels(examples):\n",
    "    tokenized_inputs = tokenizer(examples[\"tokens\"], truncation=True, is_split_into_words=True)\n",
    "\n",
    "    labels = []\n",
    "    for i, label in enumerate(examples[f\"ner_tags\"]):\n",
    "        word_ids = tokenized_inputs.word_ids(batch_index=i)\n",
    "        previous_word_idx = None\n",
    "        label_ids = []\n",
    "\n",
    "        for word_idx in word_ids:\n",
    "            if word_idx is None:\n",
    "                label_ids.append(-100)\n",
    "            elif word_idx != previous_word_idx and word_idx < len(label):\n",
    "                label_ids.append(bio_label_map.get(label[word_idx], -100))\n",
    "            else:\n",
    "                label_ids.append(bio_label_map.get(label[word_idx], -100) if label_all_tokens and word_idx < len(label) else -100)\n",
    "\n",
    "            previous_word_idx = word_idx\n",
    "\n",
    "        # Only print debug info for the first 3 examples\n",
    "        if i < 3:\n",
    "            print(f\"Processing example {i}\")\n",
    "            print(f\"Tokens: {examples['tokens'][i]}\")\n",
    "            print(f\"Tokenized input IDs: {tokenized_inputs['input_ids'][i]}\")\n",
    "            print(f\"Word IDs: {word_ids}\")\n",
    "            print(f\"Original Labels: {label}\")\n",
    "            print(f\"Aligned Labels: {label_ids}\")\n",
    "            print(f\"Length of input IDs: {len(tokenized_inputs['input_ids'][i])}, Length of Labels: {len(label_ids)}\\n\")\n",
    "\n",
    "        labels.append(label_ids)\n",
    "\n",
    "    tokenized_inputs[\"labels\"] = labels\n",
    "    return tokenized_inputs\n",
    "\n",
    "# Apply tokenization\n",
    "tokenized_dataset = dataset.map(tokenize_and_align_labels, batched=True)\n"
   ]
  },
  {
   "cell_type": "markdown",
   "metadata": {},
   "source": [
    "### Train Test Split"
   ]
  },
  {
   "cell_type": "code",
   "execution_count": 10,
   "metadata": {
    "execution": {
     "iopub.execute_input": "2025-04-21T14:37:48.018149Z",
     "iopub.status.busy": "2025-04-21T14:37:48.017648Z",
     "iopub.status.idle": "2025-04-21T14:37:48.038643Z",
     "shell.execute_reply": "2025-04-21T14:37:48.037936Z",
     "shell.execute_reply.started": "2025-04-21T14:37:48.018126Z"
    },
    "trusted": true
   },
   "outputs": [
    {
     "name": "stdout",
     "output_type": "stream",
     "text": [
      "DatasetDict({\n",
      "    train: Dataset({\n",
      "        features: ['tokens', 'ner_tags', 'input_ids', 'token_type_ids', 'attention_mask', 'labels'],\n",
      "        num_rows: 782\n",
      "    })\n",
      "    validation: Dataset({\n",
      "        features: ['tokens', 'ner_tags', 'input_ids', 'token_type_ids', 'attention_mask', 'labels'],\n",
      "        num_rows: 87\n",
      "    })\n",
      "    test: Dataset({\n",
      "        features: ['tokens', 'ner_tags', 'input_ids', 'token_type_ids', 'attention_mask', 'labels'],\n",
      "        num_rows: 218\n",
      "    })\n",
      "})\n"
     ]
    }
   ],
   "source": [
    "from datasets import DatasetDict\n",
    "\n",
    "# Split dataset (80% train, 10% validation, 10% test)\n",
    "dataset_dict = tokenized_dataset.train_test_split(test_size=0.2)\n",
    "train_valid = dataset_dict[\"train\"].train_test_split(test_size=0.1)\n",
    "\n",
    "# Final splits\n",
    "final_dataset = DatasetDict({\n",
    "    \"train\": train_valid[\"train\"],\n",
    "    \"validation\": train_valid[\"test\"],\n",
    "    \"test\": dataset_dict[\"test\"]\n",
    "})\n",
    "\n",
    "print(final_dataset)"
   ]
  },
  {
   "cell_type": "code",
   "execution_count": 11,
   "metadata": {
    "execution": {
     "iopub.execute_input": "2025-04-21T14:37:55.546939Z",
     "iopub.status.busy": "2025-04-21T14:37:55.546282Z",
     "iopub.status.idle": "2025-04-21T14:37:55.606306Z",
     "shell.execute_reply": "2025-04-21T14:37:55.605653Z",
     "shell.execute_reply.started": "2025-04-21T14:37:55.546913Z"
    },
    "trusted": true
   },
   "outputs": [
    {
     "name": "stdout",
     "output_type": "stream",
     "text": [
      "Label Distribution: Counter({'O': 49748, 'I-ADDRESS': 5854, 'I-NAME': 1391, 'B-NAME': 1071, 'B-PHONE-NO': 783, 'B-ADDRESS': 738, 'B-BANK-ACCOUNT-NO': 525, 'B-BANK-ROUTING-NO': 361, 'B-CREDIT-CARD-NO': 358, 'B-SSN': 347, 'I-PHONE-NO': 67, 'I-CREDIT-CARD-NO': 62, 'I-BANK-ACCOUNT-NO': 36, 'I-SSN': 16, 'I-BANK-ROUTING-NO': 11})\n"
     ]
    }
   ],
   "source": [
    "from collections import Counter\n",
    "\n",
    "labels = [tag for sequence in dataset[\"ner_tags\"] for tag in sequence]\n",
    "print(\"Label Distribution:\", Counter(labels))"
   ]
  },
  {
   "cell_type": "code",
   "execution_count": 12,
   "metadata": {
    "execution": {
     "iopub.execute_input": "2025-04-21T14:38:22.265510Z",
     "iopub.status.busy": "2025-04-21T14:38:22.265208Z",
     "iopub.status.idle": "2025-04-21T14:38:22.269364Z",
     "shell.execute_reply": "2025-04-21T14:38:22.268648Z",
     "shell.execute_reply.started": "2025-04-21T14:38:22.265488Z"
    },
    "trusted": true
   },
   "outputs": [],
   "source": [
    "from transformers import DataCollatorForTokenClassification\n",
    "import torch\n",
    "\n",
    "\n",
    "# Data collator for padding during batching\n",
    "data_collator = DataCollatorForTokenClassification(tokenizer)"
   ]
  },
  {
   "cell_type": "code",
   "execution_count": 13,
   "metadata": {
    "execution": {
     "iopub.execute_input": "2025-04-21T14:38:28.428476Z",
     "iopub.status.busy": "2025-04-21T14:38:28.428198Z",
     "iopub.status.idle": "2025-04-21T14:38:29.108028Z",
     "shell.execute_reply": "2025-04-21T14:38:29.107347Z",
     "shell.execute_reply.started": "2025-04-21T14:38:28.428456Z"
    },
    "trusted": true
   },
   "outputs": [
    {
     "data": {
      "application/vnd.jupyter.widget-view+json": {
       "model_id": "0723d6dc172240a095840a27b6dfdb9e",
       "version_major": 2,
       "version_minor": 0
      },
      "text/plain": [
       "Downloading builder script:   0%|          | 0.00/6.34k [00:00<?, ?B/s]"
      ]
     },
     "metadata": {},
     "output_type": "display_data"
    }
   ],
   "source": [
    "# Reverse mapping from ID to label\n",
    "id2label = {idx: label for label, idx in bio_label_map.items()}\n",
    "# Load the seqeval metric\n",
    "metric = load(\"seqeval\")\n",
    "\n",
    "\n",
    "def compute_metrics(p):\n",
    "    predictions, labels = p\n",
    "    predictions = np.argmax(predictions, axis=2)  # Convert logits to predicted labels\n",
    "\n",
    "    # Remove ignored index (special tokens)\n",
    "    true_predictions = [\n",
    "        [id2label[p] for (p, l) in zip(prediction, label) if l != -100]\n",
    "        for prediction, label in zip(predictions, labels)\n",
    "    ]\n",
    "    true_labels = [\n",
    "        [id2label[l] for (p, l) in zip(prediction, label) if l != -100]\n",
    "        for prediction, label in zip(predictions, labels)\n",
    "    ]\n",
    "\n",
    "    results = metric.compute(predictions=true_predictions, references=true_labels)\n",
    "\n",
    "    return {\n",
    "        \"precision\": results[\"overall_precision\"],\n",
    "        \"recall\": results[\"overall_recall\"],\n",
    "        \"f1\": results[\"overall_f1\"],\n",
    "        \"accuracy\": results[\"overall_accuracy\"]\n",
    "    }"
   ]
  },
  {
   "cell_type": "code",
   "execution_count": 14,
   "metadata": {
    "execution": {
     "iopub.execute_input": "2025-04-21T14:38:43.436715Z",
     "iopub.status.busy": "2025-04-21T14:38:43.436440Z",
     "iopub.status.idle": "2025-04-21T14:41:51.937569Z",
     "shell.execute_reply": "2025-04-21T14:41:51.936816Z",
     "shell.execute_reply.started": "2025-04-21T14:38:43.436696Z"
    },
    "trusted": true
   },
   "outputs": [
    {
     "name": "stderr",
     "output_type": "stream",
     "text": [
      "/tmp/ipykernel_31/1405446203.py:22: FutureWarning: `tokenizer` is deprecated and will be removed in version 5.0.0 for `Trainer.__init__`. Use `processing_class` instead.\n",
      "  trainer = Trainer(\n",
      "/usr/local/lib/python3.11/dist-packages/torch/nn/parallel/_functions.py:71: UserWarning: Was asked to gather along dimension 0, but all input tensors were scalars; will instead unsqueeze and return a vector.\n",
      "  warnings.warn(\n"
     ]
    },
    {
     "data": {
      "text/html": [
       "\n",
       "    <div>\n",
       "      \n",
       "      <progress value='245' max='245' style='width:300px; height:20px; vertical-align: middle;'></progress>\n",
       "      [245/245 03:05, Epoch 5/5]\n",
       "    </div>\n",
       "    <table border=\"1\" class=\"dataframe\">\n",
       "  <thead>\n",
       " <tr style=\"text-align: left;\">\n",
       "      <th>Epoch</th>\n",
       "      <th>Training Loss</th>\n",
       "      <th>Validation Loss</th>\n",
       "      <th>Precision</th>\n",
       "      <th>Recall</th>\n",
       "      <th>F1</th>\n",
       "      <th>Accuracy</th>\n",
       "    </tr>\n",
       "  </thead>\n",
       "  <tbody>\n",
       "    <tr>\n",
       "      <td>1</td>\n",
       "      <td>0.367200</td>\n",
       "      <td>0.198675</td>\n",
       "      <td>0.780591</td>\n",
       "      <td>0.811404</td>\n",
       "      <td>0.795699</td>\n",
       "      <td>0.953358</td>\n",
       "    </tr>\n",
       "    <tr>\n",
       "      <td>2</td>\n",
       "      <td>0.114900</td>\n",
       "      <td>0.101139</td>\n",
       "      <td>0.916118</td>\n",
       "      <td>0.977193</td>\n",
       "      <td>0.945671</td>\n",
       "      <td>0.979737</td>\n",
       "    </tr>\n",
       "    <tr>\n",
       "      <td>3</td>\n",
       "      <td>0.079500</td>\n",
       "      <td>0.088943</td>\n",
       "      <td>0.926385</td>\n",
       "      <td>0.982456</td>\n",
       "      <td>0.953597</td>\n",
       "      <td>0.981267</td>\n",
       "    </tr>\n",
       "    <tr>\n",
       "      <td>4</td>\n",
       "      <td>0.070800</td>\n",
       "      <td>0.087971</td>\n",
       "      <td>0.924217</td>\n",
       "      <td>0.984211</td>\n",
       "      <td>0.953271</td>\n",
       "      <td>0.980630</td>\n",
       "    </tr>\n",
       "    <tr>\n",
       "      <td>5</td>\n",
       "      <td>0.062600</td>\n",
       "      <td>0.085849</td>\n",
       "      <td>0.923520</td>\n",
       "      <td>0.985088</td>\n",
       "      <td>0.953311</td>\n",
       "      <td>0.980630</td>\n",
       "    </tr>\n",
       "  </tbody>\n",
       "</table><p>"
      ],
      "text/plain": [
       "<IPython.core.display.HTML object>"
      ]
     },
     "metadata": {},
     "output_type": "display_data"
    },
    {
     "name": "stderr",
     "output_type": "stream",
     "text": [
      "/usr/local/lib/python3.11/dist-packages/torch/nn/parallel/_functions.py:71: UserWarning: Was asked to gather along dimension 0, but all input tensors were scalars; will instead unsqueeze and return a vector.\n",
      "  warnings.warn(\n",
      "/usr/local/lib/python3.11/dist-packages/torch/nn/parallel/_functions.py:71: UserWarning: Was asked to gather along dimension 0, but all input tensors were scalars; will instead unsqueeze and return a vector.\n",
      "  warnings.warn(\n",
      "/usr/local/lib/python3.11/dist-packages/torch/nn/parallel/_functions.py:71: UserWarning: Was asked to gather along dimension 0, but all input tensors were scalars; will instead unsqueeze and return a vector.\n",
      "  warnings.warn(\n",
      "/usr/local/lib/python3.11/dist-packages/torch/nn/parallel/_functions.py:71: UserWarning: Was asked to gather along dimension 0, but all input tensors were scalars; will instead unsqueeze and return a vector.\n",
      "  warnings.warn(\n"
     ]
    },
    {
     "data": {
      "text/plain": [
       "TrainOutput(global_step=245, training_loss=0.2505295866606187, metrics={'train_runtime': 187.55, 'train_samples_per_second': 20.848, 'train_steps_per_second': 1.306, 'total_flos': 282427614338580.0, 'train_loss': 0.2505295866606187, 'epoch': 5.0})"
      ]
     },
     "execution_count": 14,
     "metadata": {},
     "output_type": "execute_result"
    }
   ],
   "source": [
    "from transformers import TrainingArguments\n",
    "from transformers import EarlyStoppingCallback\n",
    "\n",
    "training_args = TrainingArguments(\n",
    "    output_dir=\"./results\",\n",
    "    eval_strategy=\"epoch\",  # Log at the end of each epoch\n",
    "    logging_strategy=\"steps\",  # Log training loss at intervals\n",
    "    logging_steps=10,  # Log every 10 steps (adjust as needed)\n",
    "    save_strategy=\"epoch\",\n",
    "    learning_rate=2e-5,\n",
    "    per_device_train_batch_size=8,\n",
    "    per_device_eval_batch_size=8,\n",
    "    num_train_epochs=5,\n",
    "    save_total_limit=2,           # Keep only best checkpoints\n",
    "    load_best_model_at_end=True,\n",
    "    metric_for_best_model=\"f1\",\n",
    "    weight_decay=0.01,\n",
    "    report_to=\"none\",  # Use \"wandb\" if logging to Weights & Biases\n",
    ")\n",
    "from transformers import Trainer\n",
    "\n",
    "trainer = Trainer(\n",
    "    model=model,\n",
    "    args=training_args,\n",
    "    train_dataset=final_dataset[\"train\"],\n",
    "    eval_dataset=final_dataset[\"validation\"],\n",
    "    tokenizer=tokenizer,\n",
    "    data_collator=data_collator,\n",
    "    compute_metrics=compute_metrics,\n",
    "    callbacks=[EarlyStoppingCallback(early_stopping_patience=2)]\n",
    ")\n",
    "\n",
    "\n",
    "\n",
    "trainer.train()"
   ]
  },
  {
   "cell_type": "code",
   "execution_count": 15,
   "metadata": {
    "execution": {
     "iopub.execute_input": "2025-04-21T14:50:01.221314Z",
     "iopub.status.busy": "2025-04-21T14:50:01.220572Z",
     "iopub.status.idle": "2025-04-21T14:50:02.571415Z",
     "shell.execute_reply": "2025-04-21T14:50:02.570626Z",
     "shell.execute_reply.started": "2025-04-21T14:50:01.221290Z"
    },
    "trusted": true
   },
   "outputs": [
    {
     "name": "stderr",
     "output_type": "stream",
     "text": [
      "/usr/local/lib/python3.11/dist-packages/torch/nn/parallel/_functions.py:71: UserWarning: Was asked to gather along dimension 0, but all input tensors were scalars; will instead unsqueeze and return a vector.\n",
      "  warnings.warn(\n"
     ]
    },
    {
     "data": {
      "text/html": [],
      "text/plain": [
       "<IPython.core.display.HTML object>"
      ]
     },
     "metadata": {},
     "output_type": "display_data"
    },
    {
     "data": {
      "text/plain": [
       "{'eval_loss': 0.08894266188144684,\n",
       " 'eval_precision': 0.9263854425144747,\n",
       " 'eval_recall': 0.9824561403508771,\n",
       " 'eval_f1': 0.953597275436356,\n",
       " 'eval_accuracy': 0.9812667261373773,\n",
       " 'eval_runtime': 1.3409,\n",
       " 'eval_samples_per_second': 64.884,\n",
       " 'eval_steps_per_second': 4.475,\n",
       " 'epoch': 5.0}"
      ]
     },
     "execution_count": 15,
     "metadata": {},
     "output_type": "execute_result"
    }
   ],
   "source": [
    "trainer.evaluate()"
   ]
  },
  {
   "cell_type": "code",
   "execution_count": 16,
   "metadata": {
    "execution": {
     "iopub.execute_input": "2025-04-21T14:50:05.945501Z",
     "iopub.status.busy": "2025-04-21T14:50:05.944620Z",
     "iopub.status.idle": "2025-04-21T14:50:07.401417Z",
     "shell.execute_reply": "2025-04-21T14:50:07.400712Z",
     "shell.execute_reply.started": "2025-04-21T14:50:05.945465Z"
    },
    "trusted": true
   },
   "outputs": [
    {
     "data": {
      "text/plain": [
       "{'ADDRESS': {'precision': 0.9113924050632911,\n",
       "  'recall': 0.935064935064935,\n",
       "  'f1': 0.923076923076923,\n",
       "  'number': 77},\n",
       " 'BANK-ACCOUNT-NO': {'precision': 0.907608695652174,\n",
       "  'recall': 0.9881656804733728,\n",
       "  'f1': 0.9461756373937678,\n",
       "  'number': 169},\n",
       " 'BANK-ROUTING-NO': {'precision': 0.8547008547008547,\n",
       "  'recall': 0.9615384615384616,\n",
       "  'f1': 0.9049773755656108,\n",
       "  'number': 104},\n",
       " 'CREDIT-CARD-NO': {'precision': 0.9537815126050421,\n",
       "  'recall': 0.9956140350877193,\n",
       "  'f1': 0.9742489270386266,\n",
       "  'number': 228},\n",
       " 'NAME': {'precision': 0.9754601226993865,\n",
       "  'recall': 0.9695121951219512,\n",
       "  'f1': 0.9724770642201835,\n",
       "  'number': 164},\n",
       " 'PHONE-NO': {'precision': 0.9384615384615385,\n",
       "  'recall': 0.9902597402597403,\n",
       "  'f1': 0.9636650868878356,\n",
       "  'number': 308},\n",
       " 'SSN': {'precision': 0.8737864077669902,\n",
       "  'recall': 1.0,\n",
       "  'f1': 0.932642487046632,\n",
       "  'number': 90},\n",
       " 'overall_precision': 0.9263854425144747,\n",
       " 'overall_recall': 0.9824561403508771,\n",
       " 'overall_f1': 0.953597275436356,\n",
       " 'overall_accuracy': 0.9812667261373773}"
      ]
     },
     "execution_count": 16,
     "metadata": {},
     "output_type": "execute_result"
    }
   ],
   "source": [
    "predictions, labels, _ = trainer.predict(final_dataset[\"validation\"])\n",
    "predictions = np.argmax(predictions, axis=2)\n",
    "\n",
    "label_list = [label for label, idx in sorted(bio_label_map.items(), key=lambda x: x[1])]\n",
    "\n",
    "# Remove ignored index (special tokens)\n",
    "true_predictions = [\n",
    "    [label_list[p] for (p, l) in zip(prediction, label) if l != -100]\n",
    "    for prediction, label in zip(predictions, labels)\n",
    "]\n",
    "true_labels = [\n",
    "    [label_list[l] for (p, l) in zip(prediction, label) if l != -100]\n",
    "    for prediction, label in zip(predictions, labels)\n",
    "]\n",
    "\n",
    "results = metric.compute(predictions=true_predictions, references=true_labels)\n",
    "results"
   ]
  },
  {
   "cell_type": "code",
   "execution_count": 17,
   "metadata": {
    "execution": {
     "iopub.execute_input": "2025-04-21T14:59:20.719035Z",
     "iopub.status.busy": "2025-04-21T14:59:20.718737Z",
     "iopub.status.idle": "2025-04-21T14:59:20.793244Z",
     "shell.execute_reply": "2025-04-21T14:59:20.792461Z",
     "shell.execute_reply.started": "2025-04-21T14:59:20.719016Z"
    },
    "trusted": true
   },
   "outputs": [
    {
     "name": "stdout",
     "output_type": "stream",
     "text": [
      "\n",
      "SeqEval Classification Report:\n",
      "                 precision    recall  f1-score   support\n",
      "\n",
      "        ADDRESS       0.91      0.94      0.92        77\n",
      "BANK-ACCOUNT-NO       0.91      0.99      0.95       169\n",
      "BANK-ROUTING-NO       0.85      0.96      0.90       104\n",
      " CREDIT-CARD-NO       0.95      1.00      0.97       228\n",
      "           NAME       0.98      0.97      0.97       164\n",
      "       PHONE-NO       0.94      0.99      0.96       308\n",
      "            SSN       0.87      1.00      0.93        90\n",
      "\n",
      "      micro avg       0.93      0.98      0.95      1140\n",
      "      macro avg       0.92      0.98      0.95      1140\n",
      "   weighted avg       0.93      0.98      0.95      1140\n",
      "\n"
     ]
    }
   ],
   "source": [
    "from seqeval.metrics import classification_report\n",
    "\n",
    "print(\"\\nSeqEval Classification Report:\")\n",
    "print(classification_report(true_labels, true_predictions, zero_division=0))\n"
   ]
  },
  {
   "cell_type": "code",
   "execution_count": 21,
   "metadata": {
    "execution": {
     "iopub.execute_input": "2025-04-21T15:13:14.519791Z",
     "iopub.status.busy": "2025-04-21T15:13:14.519197Z",
     "iopub.status.idle": "2025-04-21T15:13:14.529618Z",
     "shell.execute_reply": "2025-04-21T15:13:14.528828Z",
     "shell.execute_reply.started": "2025-04-21T15:13:14.519768Z"
    },
    "trusted": true
   },
   "outputs": [
    {
     "name": "stdout",
     "output_type": "stream",
     "text": [
      "\n",
      "Predicted Label Distribution:\n",
      "Counter({'O': 36183, 'I-ADDRESS': 2352, 'B-PHONE-NO': 719, 'I-NAME': 522, 'B-BANK-ACCOUNT-NO': 477, 'B-CREDIT-CARD-NO': 471, 'B-NAME': 412, 'B-BANK-ROUTING-NO': 286, 'B-SSN': 243, 'B-ADDRESS': 191})\n",
      "\n",
      "True Label Distribution:\n",
      "Counter({'O': 36625, 'I-ADDRESS': 2004, 'B-PHONE-NO': 691, 'I-NAME': 501, 'B-CREDIT-CARD-NO': 434, 'B-BANK-ACCOUNT-NO': 432, 'B-NAME': 406, 'B-BANK-ROUTING-NO': 272, 'B-SSN': 229, 'B-ADDRESS': 195, 'I-CREDIT-CARD-NO': 31, 'I-BANK-ACCOUNT-NO': 15, 'I-PHONE-NO': 11, 'I-SSN': 8, 'I-BANK-ROUTING-NO': 2})\n"
     ]
    }
   ],
   "source": [
    "from collections import Counter\n",
    "\n",
    "# Flatten the label sequences to count the tags\n",
    "flat_predictions = [label for seq in true_predictions for label in seq]\n",
    "flat_labels = [label for seq in true_labels for label in seq]\n",
    "\n",
    "print(\"\\nPredicted Label Distribution:\")\n",
    "print(Counter(flat_predictions))\n",
    "\n",
    "print(\"\\nTrue Label Distribution:\")\n",
    "print(Counter(flat_labels))"
   ]
  },
  {
   "cell_type": "code",
   "execution_count": 22,
   "metadata": {
    "execution": {
     "iopub.execute_input": "2025-04-21T15:13:28.805420Z",
     "iopub.status.busy": "2025-04-21T15:13:28.805117Z",
     "iopub.status.idle": "2025-04-21T15:13:31.610068Z",
     "shell.execute_reply": "2025-04-21T15:13:31.609516Z",
     "shell.execute_reply.started": "2025-04-21T15:13:28.805401Z"
    },
    "trusted": true
   },
   "outputs": [],
   "source": [
    "## Save model\n",
    "model.save_pretrained(\"ner_model\")"
   ]
  },
  {
   "cell_type": "code",
   "execution_count": 23,
   "metadata": {
    "execution": {
     "iopub.execute_input": "2025-04-21T15:13:33.851526Z",
     "iopub.status.busy": "2025-04-21T15:13:33.851246Z",
     "iopub.status.idle": "2025-04-21T15:13:33.916573Z",
     "shell.execute_reply": "2025-04-21T15:13:33.915839Z",
     "shell.execute_reply.started": "2025-04-21T15:13:33.851509Z"
    },
    "trusted": true
   },
   "outputs": [
    {
     "data": {
      "text/plain": [
       "('tokenizer/tokenizer_config.json',\n",
       " 'tokenizer/special_tokens_map.json',\n",
       " 'tokenizer/spm.model',\n",
       " 'tokenizer/added_tokens.json',\n",
       " 'tokenizer/tokenizer.json')"
      ]
     },
     "execution_count": 23,
     "metadata": {},
     "output_type": "execute_result"
    }
   ],
   "source": [
    "## Save tokenizer\n",
    "tokenizer.save_pretrained(\"tokenizer\")"
   ]
  },
  {
   "cell_type": "code",
   "execution_count": 24,
   "metadata": {
    "execution": {
     "iopub.execute_input": "2025-04-21T15:13:36.584921Z",
     "iopub.status.busy": "2025-04-21T15:13:36.584659Z",
     "iopub.status.idle": "2025-04-21T15:13:36.588767Z",
     "shell.execute_reply": "2025-04-21T15:13:36.588049Z",
     "shell.execute_reply.started": "2025-04-21T15:13:36.584903Z"
    },
    "trusted": true
   },
   "outputs": [],
   "source": [
    "id2label = {\n",
    "    str(i): label for i,label in enumerate(label_list)\n",
    "}\n",
    "label2id = {\n",
    "    label: str(i) for i,label in enumerate(label_list)\n",
    "}"
   ]
  },
  {
   "cell_type": "code",
   "execution_count": 25,
   "metadata": {
    "execution": {
     "iopub.execute_input": "2025-04-21T15:13:43.372019Z",
     "iopub.status.busy": "2025-04-21T15:13:43.371785Z",
     "iopub.status.idle": "2025-04-21T15:13:43.376830Z",
     "shell.execute_reply": "2025-04-21T15:13:43.376137Z",
     "shell.execute_reply.started": "2025-04-21T15:13:43.372003Z"
    },
    "trusted": true
   },
   "outputs": [],
   "source": [
    "config = json.load(open(\"ner_model/config.json\"))\n",
    "config[\"id2label\"] = id2label\n",
    "config[\"label2id\"] = label2id\n",
    "json.dump(config, open(\"ner_model/config.json\",\"w\"))"
   ]
  },
  {
   "cell_type": "code",
   "execution_count": 26,
   "metadata": {
    "execution": {
     "iopub.execute_input": "2025-04-21T15:13:46.424490Z",
     "iopub.status.busy": "2025-04-21T15:13:46.423795Z",
     "iopub.status.idle": "2025-04-21T15:13:46.519000Z",
     "shell.execute_reply": "2025-04-21T15:13:46.518281Z",
     "shell.execute_reply.started": "2025-04-21T15:13:46.424465Z"
    },
    "trusted": true
   },
   "outputs": [],
   "source": [
    "model_fine_tuned = AutoModelForTokenClassification.from_pretrained(\"ner_model\")"
   ]
  },
  {
   "cell_type": "code",
   "execution_count": 27,
   "metadata": {
    "execution": {
     "iopub.execute_input": "2025-04-21T15:13:49.028323Z",
     "iopub.status.busy": "2025-04-21T15:13:49.027658Z",
     "iopub.status.idle": "2025-04-21T15:13:49.032674Z",
     "shell.execute_reply": "2025-04-21T15:13:49.031900Z",
     "shell.execute_reply.started": "2025-04-21T15:13:49.028299Z"
    },
    "trusted": true
   },
   "outputs": [],
   "source": [
    "def merge_tokens(ner_results):\n",
    "    entities = {}\n",
    "    for entity in ner_results:\n",
    "        entity_type = entity[\"entity_group\"]\n",
    "        entity_value = entity[\"word\"].replace(\"##\", \"\")  # Remove subword prefixes\n",
    "\n",
    "        # Handle token merging\n",
    "        if entity_type not in entities:\n",
    "            entities[entity_type] = []\n",
    "        if entities[entity_type] and not entity_value.startswith(\" \"):\n",
    "            # If the previous token exists and this one isn't a new word, merge it\n",
    "            entities[entity_type][-1] += entity_value\n",
    "        else:\n",
    "            entities[entity_type].append(entity_value)\n",
    "\n",
    "    return entities"
   ]
  },
  {
   "cell_type": "code",
   "execution_count": 28,
   "metadata": {
    "execution": {
     "iopub.execute_input": "2025-04-21T15:13:57.789346Z",
     "iopub.status.busy": "2025-04-21T15:13:57.788805Z",
     "iopub.status.idle": "2025-04-21T15:13:58.954805Z",
     "shell.execute_reply": "2025-04-21T15:13:58.954217Z",
     "shell.execute_reply.started": "2025-04-21T15:13:57.789322Z"
    },
    "trusted": true
   },
   "outputs": [
    {
     "name": "stderr",
     "output_type": "stream",
     "text": [
      "Device set to use cuda:0\n"
     ]
    },
    {
     "name": "stdout",
     "output_type": "stream",
     "text": [
      "NER Results for Example 1:\n",
      "  NAME: Mia Thompson\n",
      "  BANK-ACCOUNT-NO: 4893172051\n",
      "  BANK-ROUTING-NO: 192847561\n",
      "  PHONE-NO: 727-814-3902\n",
      "\n",
      "--------------------------------------------------------------------------------\n",
      "\n",
      "NER Results for Example 2:\n",
      "  NAME: Nathaniel Clark\n",
      "  CREDIT-CARD-NO: 4539-2018-4729-5601\n",
      "  PHONE-NO: 408-653-1092\n",
      "\n",
      "--------------------------------------------------------------------------------\n",
      "\n",
      "NER Results for Example 3:\n",
      "  NAME: Avery Scott\n",
      "  BANK-ACCOUNT-NO: 6049281732.\n",
      "  BANK-ROUTING-NO: 281764930.\n",
      "  PHONE-NO: 936-284-6075.\n",
      "\n",
      "--------------------------------------------------------------------------------\n",
      "\n",
      "NER Results for Example 4:\n",
      "  NAME: Lily Parker\n",
      "  SSN: 507-61-2843\n",
      "  PHONE-NO: 516-438-9021.\n",
      "\n",
      "--------------------------------------------------------------------------------\n",
      "\n",
      "NER Results for Example 5:\n",
      "  NAME: Julian Rivera\n",
      "  CREDIT-CARD-NO: 6011-5738-4956-2743\n",
      "  ADDRESS: 892 Willow Bend Lane, Orlando, Florida 32801.\n",
      "  PHONE-NO: 407-726-8193\n",
      "\n",
      "--------------------------------------------------------------------------------\n",
      "\n",
      "NER Results for Example 6:\n",
      "  NAME: Claire Bennett\n",
      "  BANK-ACCOUNT-NO: 7021849537\n",
      "  BANK-ROUTING-NO: 310894726.\n",
      "  PHONE-NO: 318-764-9205.\n",
      "\n",
      "--------------------------------------------------------------------------------\n",
      "\n",
      "NER Results for Example 7:\n",
      "  NAME: Marcus Foster\n",
      "  SSN: 395-28-6712\n",
      "  PHONE-NO: 714-805-3126\n",
      "\n",
      "--------------------------------------------------------------------------------\n",
      "\n"
     ]
    },
    {
     "name": "stderr",
     "output_type": "stream",
     "text": [
      "You seem to be using the pipelines sequentially on GPU. In order to maximize efficiency please use a dataset\n"
     ]
    },
    {
     "name": "stdout",
     "output_type": "stream",
     "text": [
      "NER Results for Example 8:\n",
      "  NAME: Ella Simmons\n",
      "  CREDIT-CARD-NO: 5372-8490-1823-9704\n",
      "  PHONE-NO: 630-415-8794\n",
      "\n",
      "--------------------------------------------------------------------------------\n",
      "\n",
      "NER Results for Example 9:\n",
      "  NAME: Logan Hughes\n",
      "  BANK-ACCOUNT-NO: 8294710538\n",
      "  BANK-ROUTING-NO: 283716405\n",
      "  PHONE-NO: 678-902-1745\n",
      "\n",
      "--------------------------------------------------------------------------------\n",
      "\n",
      "NER Results for Example 10:\n",
      "  NAME: Sophia Greene\n",
      "  CREDIT-CARD-NO: 4929-1837-5049-1036\n",
      "  PHONE-NO: 914-875-2093.\n",
      "\n",
      "--------------------------------------------------------------------------------\n",
      "\n",
      "NER Results for Example 11:\n",
      "  NAME: Jacob Morris\n",
      "  BANK-ACCOUNT-NO: 5910283745\n",
      "  PHONE-NO: 715-829-6142.\n",
      "\n",
      "--------------------------------------------------------------------------------\n",
      "\n",
      "NER Results for Example 12:\n",
      "  NAME: Madison Lee\n",
      "  SSN: 615-94-8701\n",
      "  PHONE-NO: 843-510-2974.\n",
      "\n",
      "--------------------------------------------------------------------------------\n",
      "\n",
      "NER Results for Example 13:\n",
      "  NAME: Owen Carter\n",
      "  ADDRESS: 732 Cypress Hill Rd, Raleigh, North Carolina 27603\n",
      "  PHONE-NO: 984-321-7806\n",
      "\n",
      "--------------------------------------------------------------------------------\n",
      "\n",
      "NER Results for Example 14:\n",
      "  NAME: Stella Collins\n",
      "  CREDIT-CARD-NO: 6011-4739-2893-6501\n",
      "  PHONE-NO: 417-538-2174.\n",
      "\n",
      "--------------------------------------------------------------------------------\n",
      "\n",
      "NER Results for Example 15:\n",
      "  NAME: Carter Mitchell\n",
      "  SSN: 498-75-1306\n",
      "  PHONE-NO: 775-684-2957\n",
      "\n",
      "--------------------------------------------------------------------------------\n",
      "\n",
      "NER Results for Example 16:\n",
      "  NAME: Grace Reynolds\n",
      "  SSN: 701-62-1489\n",
      "  PHONE-NO: 973-285-1947\n",
      "\n",
      "--------------------------------------------------------------------------------\n",
      "\n",
      "NER Results for Example 17:\n",
      "  NAME: Ryan Collins\n",
      "  CREDIT-CARD-NO: 4532-1789-3064-5298\n",
      "  PHONE-NO: 646-920-3148\n",
      "\n",
      "--------------------------------------------------------------------------------\n",
      "\n",
      "NER Results for Example 18:\n",
      "  NAME: Zoe Hamilton\n",
      "  BANK-ACCOUNT-NO: 8291037465\n",
      "  BANK-ROUTING-NO: 382910745\n",
      "  PHONE-NO: 502-637-2184.\n",
      "\n",
      "--------------------------------------------------------------------------------\n",
      "\n",
      "NER Results for Example 19:\n",
      "  NAME: Blake Morgan\n",
      "  SSN: 319-45-7810\n",
      "  PHONE-NO: 214-789-6543\n",
      "\n",
      "--------------------------------------------------------------------------------\n",
      "\n",
      "NER Results for Example 20:\n",
      "  NAME: Ava Grant\n",
      "  BANK-ACCOUNT-NO: 5910283642\n",
      "  BANK-ROUTING-NO: 210984763.\n",
      "  PHONE-NO: 470-893-1674.\n",
      "\n",
      "--------------------------------------------------------------------------------\n",
      "\n",
      "NER Results for Example 21:\n",
      "  NAME: Eli Brooks\n",
      "  CREDIT-CARD-NO: 6011-3948-2719-5307\n",
      "  PHONE-NO: 414-658-2901.\n",
      "\n",
      "--------------------------------------------------------------------------------\n",
      "\n",
      "NER Results for Example 22:\n",
      "  NAME: Hailey Simmons\n",
      "  BANK-ACCOUNT-NO: 7362019458\n",
      "  BANK-ROUTING-NO: 109384756.\n",
      "  PHONE-NO: 832-490-8173\n",
      "\n",
      "--------------------------------------------------------------------------------\n",
      "\n",
      "NER Results for Example 23:\n",
      "  NAME: Carter James\n",
      "  SSN: 625-93-4781.\n",
      "  PHONE-NO: 541-782-3910\n",
      "\n",
      "--------------------------------------------------------------------------------\n",
      "\n",
      "NER Results for Example 24:\n",
      "  NAME: Leah Fisher\n",
      "  CREDIT-CARD-NO: 5186-9302-4710-3846\n",
      "  PHONE-NO: 909-784-1029\n",
      "\n",
      "--------------------------------------------------------------------------------\n",
      "\n",
      "NER Results for Example 25:\n",
      "  NAME: Isaac Coleman\n",
      "  BANK-ACCOUNT-NO: 8725091347\n",
      "  BANK-ROUTING-NO: 395721840\n",
      "  PHONE-NO: 615-720-3184\n",
      "\n",
      "--------------------------------------------------------------------------------\n",
      "\n",
      "NER Results for Example 26:\n",
      "  NAME: Nora Wallace\n",
      "  ADDRESS: 1590 Sycamore Trail, Boise, Idaho 83705.\n",
      "  PHONE-NO: 208-912-4735.\n",
      "\n",
      "--------------------------------------------------------------------------------\n",
      "\n",
      "NER Results for Example 27:\n",
      "  NAME: Mason Bryant\n",
      "  CREDIT-CARD-NO: 5421-7803-4910-2764\n",
      "  PHONE-NO: 312-784-5063\n",
      "\n",
      "--------------------------------------------------------------------------------\n",
      "\n",
      "NER Results for Example 28:\n",
      "  NAME: Chloe Peterson\n",
      "  SSN: 509-78-2163\n",
      "  PHONE-NO: 785-394-1628\n",
      "\n",
      "--------------------------------------------------------------------------------\n",
      "\n",
      "NER Results for Example 29:\n",
      "  NAME: Wyatt Ellis\n",
      "  ADDRESS: 2078 Lakeview Avenue, Charlotte, North Carolina 28210.\n",
      "  PHONE-NO: 980-657-3102.\n",
      "\n",
      "--------------------------------------------------------------------------------\n",
      "\n",
      "NER Results for Example 30:\n",
      "  NAME: Stella Young\n",
      "  BANK-ACCOUNT-NO: 7382910546\n",
      "  BANK-ROUTING-NO: 189273645.\n",
      "  PHONE-NO: 872-561-4309\n",
      "\n",
      "--------------------------------------------------------------------------------\n",
      "\n"
     ]
    }
   ],
   "source": [
    "from transformers import pipeline\n",
    "\n",
    "# Load your fine-tuned NER model\n",
    "nlp = pipeline(\"ner\", model=model_fine_tuned, tokenizer=tokenizer, aggregation_strategy=\"simple\")\n",
    "\n",
    "# List of text examples\n",
    "examples = [\n",
    "    \"Hi, I’m Mia Thompson. I recently noticed that my electricity bill hasn’t been updated despite making the payment last week. I used account number 4893172051 linked with routing number 192847561. My service was nearly suspended, and I’d appreciate it if you could verify the payment. You can reach me at 727-814-3902 if more information is needed.\",\n",
    "\n",
    "    \"Hello, my name is Nathaniel Clark. I need help disputing a charge made to my credit card 4539-2018-4729-5601 for a service I didn’t subscribe to. I’ve already contacted customer support with no resolution. Please check the last three transactions and get back to me at 408-653-1092 with an update.\",\n",
    "\n",
    "    \"Hi, this is Avery Scott. I’m concerned about an unauthorized attempt to access my online banking using account number 6049281732. I was notified that someone tried to make a transaction using routing number 281764930. Can you put a freeze on my account until this is resolved? My contact number is 936-284-6075.\",\n",
    "\n",
    "    \"Hi, I’m Lily Parker. I submitted my SSN 507-61-2843 last week for verification, but I was told it doesn’t match the one on record. This is delaying my tax refund, and I’m getting concerned. Please double-check my records and let me know if any further documents are needed. You can call me at 516-438-9021.\",\n",
    "\n",
    "    \"Hello, I’m Julian Rivera. I’m writing about a phone service bill that I paid using my credit card 6011-5738-4956-2743, but it looks like it was charged twice. My billing address is 892 Willow Bend Lane, Orlando, Florida 32801. I’d appreciate a refund of the duplicate charge. Please call me at 407-726-8193 with an update.\",\n",
    "\n",
    "    \"Hi, this is Claire Bennett. I received a disconnect notice even though I paid last month’s water bill using bank account 7021849537 and routing number 310894726. I want to make sure the payment was received on time. If you need anything from my side, you can contact me at 318-764-9205.\",\n",
    "\n",
    "    \"Hello, I’m Marcus Foster. I just got a letter stating that my Social Security Number 395-28-6712 doesn’t match your records, which could delay my insurance approval. I’ve double-checked and confirmed my number is correct. Please look into it and call me at 714-805-3126 when resolved.\",\n",
    "\n",
    "    \"Hi, I’m Ella Simmons. I noticed a charge for $79.99 on my credit card 5372-8490-1823-9704 for a service I never signed up for. I’d like this transaction investigated and removed. You can reach me at 630-415-8794 to confirm details if needed. Thanks in advance for your support.\",\n",
    "\n",
    "    \"This is Logan Hughes. I paid my internet bill using bank account 8294710538, routed through 283716405, but the system still shows a pending balance. Could you confirm the payment was applied correctly? Feel free to contact me at 678-902-1745 if more information is needed.\",\n",
    "\n",
    "    \"Hello, I’m Sophia Greene. I’m writing because my utility bill wasn’t processed even after I submitted my payment. I used credit card number 4929-1837-5049-1036, and the payment was shown as 'failed' in your portal. Please confirm the status and call me at 914-875-2093.\",\n",
    "\n",
    "    \"Hi, my name is Jacob Morris. I noticed an incorrect debit on my checking account 5910283745, and I’ve already submitted a complaint, but haven’t heard back. It was routed via 209387416. Please investigate and let me know at 715-829-6142.\",\n",
    "\n",
    "    \"Hi, this is Madison Lee. I’m applying for a housing program and was informed my SSN 615-94-8701 doesn’t verify. I submitted the documents over a week ago. Could someone please double-check and confirm this? I can be reached at 843-510-2974.\",\n",
    "\n",
    "    \"Hello, I’m Owen Carter. I recently moved to 732 Cypress Hill Rd, Raleigh, North Carolina 27603 and updated my billing info. However, I received a bill at my old address again. Could you confirm my current address is on file and contact me at 984-321-7806?\",\n",
    "\n",
    "    \"Hi, this is Stella Collins. I got charged twice for a subscription renewal I canceled last month. The charges appeared on my credit card 6011-4739-2893-6501. Can someone check the billing logs and process a refund? I’m available at 417-538-2174.\",\n",
    "\n",
    "    \"Hello, I’m Carter Mitchell. There seems to be a mismatch in my employment documents, and HR says my SSN 498-75-1306 isn’t valid in their system. I submitted everything correctly. Please review this error and call me at 775-684-2957 for confirmation.\",\n",
    "\n",
    "    \"Hi, I’m Grace Reynolds. I recently submitted my SSN 701-62-1489 for insurance verification, but I received a rejection notice saying it doesn’t match. This has delayed my policy approval, and I’d like it resolved quickly. You can reach me at 973-285-1947 for further clarification.\",\n",
    "\n",
    "    \"Hello, my name is Ryan Collins. I noticed a duplicate charge on my credit card 4532-1789-3064-5298 after renewing my gym membership. I only authorized one transaction, but two payments were debited. Please investigate and call me at 646-920-3148 with an update.\",\n",
    "\n",
    "    \"Hi, this is Zoe Hamilton. I paid my internet bill using account number 8291037465 and routing number 382910745, but I still received a late notice. Kindly confirm the payment was processed and remove any late fee. My contact number is 502-637-2184.\",\n",
    "\n",
    "    \"Hey, I’m Blake Morgan. I recently applied for a loan and used my SSN 319-45-7810, but your system marked it as invalid. I’ve double-checked the number and it’s correct. Can someone verify and contact me at 214-789-6543 as soon as possible?\",\n",
    "\n",
    "    \"Hello, I’m Ava Grant. I received a suspicious notification about activity on my bank account 5910283642, routed through 210984763. I did not authorize any recent transactions. Please freeze the account immediately and contact me at 470-893-1674.\",\n",
    "\n",
    "    \"Hi, this is Eli Brooks. I made a payment using my credit card 6011-3948-2719-5307 for my electricity bill, but the system shows it’s still unpaid. I want to avoid any interruption in service. Please check and call me at 414-658-2901.\",\n",
    "\n",
    "    \"Hello, I’m Hailey Simmons. My water bill has not been updated even though I paid it two days ago from account number 7362019458 with routing number 109384756. Please confirm the payment went through. You can call me at 832-490-8173 if needed.\",\n",
    "\n",
    "    \"Hi, I’m Carter James. My employment background check failed because your system shows an error with my SSN 625-93-4781. I’ve verified that the number is correct. Could someone fix this issue and call me at 541-782-3910?\",\n",
    "\n",
    "    \"Hey, this is Leah Fisher. I was charged for a service I didn’t use on my credit card 5186-9302-4710-3846. I need help disputing this charge and making sure it doesn’t happen again. Contact me at 909-784-1029 with the resolution.\",\n",
    "\n",
    "    \"Hi, I’m Isaac Coleman. My recent transfer didn’t go through even though I used account number 8725091347 and routing number 395721840. I received a failed transaction alert. Can you please investigate and call me at 615-720-3184?\",\n",
    "\n",
    "    \"Hello, I’m Nora Wallace. I was trying to update my billing address for my internet service, but your system wouldn’t accept my new zip code. My current address is 1590 Sycamore Trail, Boise, Idaho 83705. Please help me resolve this and contact me at 208-912-4735.\",\n",
    "\n",
    "    \"Hi, this is Mason Bryant. My mobile bill was paid using credit card 5421-7803-4910-2764, but the charge appears three times in my statement. Please reverse the extra payments and contact me at 312-784-5063 once it’s fixed.\",\n",
    "\n",
    "    \"Hello, I’m Chloe Peterson. I submitted my SSN 509-78-2163 during onboarding, but HR reported it as unmatched. I’ve sent supporting documents already. Please follow up and reach me at 785-394-1628 for any questions.\",\n",
    "\n",
    "    \"Hi, I’m Wyatt Ellis. I noticed an old billing address was still on file despite updating it last month. It should be 2078 Lakeview Avenue, Charlotte, North Carolina 28210. Kindly update your records and let me know at 980-657-3102.\",\n",
    "\n",
    "    \"This is Stella Young. I got a notification about suspicious activity on my account 7382910546 via routing number 189273645. I haven’t made any recent transactions. Please secure my account and call me at 872-561-4309 with a report.\"\n",
    "]\n",
    "\n",
    "\n",
    "# Process each example through the NER model\n",
    "for i, example in enumerate(examples, 1):\n",
    "    ner_results = nlp(example)\n",
    "    cleaned_entities = merge_tokens(ner_results)\n",
    "\n",
    "    # Display results\n",
    "    print(f\"NER Results for Example {i}:\")\n",
    "    for entity_type, values in cleaned_entities.items():\n",
    "        print(f\"  {entity_type}: {', '.join(values)}\")\n",
    "    print(\"\\n\" + \"-\"*80 + \"\\n\")\n"
   ]
  },
  {
   "cell_type": "code",
   "execution_count": 29,
   "metadata": {
    "execution": {
     "iopub.execute_input": "2025-04-21T15:14:19.538721Z",
     "iopub.status.busy": "2025-04-21T15:14:19.537955Z",
     "iopub.status.idle": "2025-04-21T15:14:20.348435Z",
     "shell.execute_reply": "2025-04-21T15:14:20.347752Z",
     "shell.execute_reply.started": "2025-04-21T15:14:19.538691Z"
    },
    "trusted": true
   },
   "outputs": [
    {
     "name": "stdout",
     "output_type": "stream",
     "text": [
      "Redacted Example 1:\n",
      "Hi, I’m [REDACTED]. I recently noticed that my electricity bill hasn’t been updated despite making the payment last week. I used account number [REDACTED] linked with routing number [REDACTED]. My service was nearly suspended, and I’d appreciate it if you could verify the payment. You can reach me at [REDACTED] if more information is needed.\n",
      "\n",
      "--------------------------------------------------------------------------------\n",
      "Redacted Example 2:\n",
      "Hello, my name is [REDACTED]. I need help disputing a charge made to my credit card [REDACTED] for a service I didn’t subscribe to. I’ve already contacted customer support with no resolution. Please check the last three transactions and get back to me at [REDACTED] with an update.\n",
      "\n",
      "--------------------------------------------------------------------------------\n",
      "Redacted Example 3:\n",
      "Hi, this is [REDACTED]. I’m concerned about an unauthorized attempt to access my online banking using account number [REDACTED] I was notified that someone tried to make a transaction using routing number [REDACTED] Can you put a freeze on my account until this is resolved? My contact number is [REDACTED]\n",
      "\n",
      "--------------------------------------------------------------------------------\n",
      "Redacted Example 4:\n",
      "Hi, I’m [REDACTED]. I submitted my SSN [REDACTED] last week for verification, but I was told it doesn’t match the one on record. This is delaying my tax refund, and I’m getting concerned. Please double-check my records and let me know if any further documents are needed. You can call me at [REDACTED]\n",
      "\n",
      "--------------------------------------------------------------------------------\n",
      "Redacted Example 5:\n",
      "Hello, I’m [REDACTED]. I’m writing about a phone service bill that I paid using my credit card [REDACTED], but it looks like it was charged twice. My billing address is [REDACTED] I’d appreciate a refund of the duplicate charge. Please call me at [REDACTED] with an update.\n",
      "\n",
      "--------------------------------------------------------------------------------\n",
      "Redacted Example 6:\n",
      "Hi, this is [REDACTED]. I received a disconnect notice even though I paid last month’s water bill using bank account [REDACTED] and routing number [REDACTED] I want to make sure the payment was received on time. If you need anything from my side, you can contact me at [REDACTED]\n",
      "\n",
      "--------------------------------------------------------------------------------\n",
      "Redacted Example 7:\n",
      "Hello, I’m [REDACTED]. I just got a letter stating that my Social Security Number [REDACTED] doesn’t match your records, which could delay my insurance approval. I’ve double-checked and confirmed my number is correct. Please look into it and call me at [REDACTED] when resolved.\n",
      "\n",
      "--------------------------------------------------------------------------------\n",
      "Redacted Example 8:\n",
      "Hi, I’m [REDACTED]. I noticed a charge for $79.99 on my credit card [REDACTED] for a service I never signed up for. I’d like this transaction investigated and removed. You can reach me at [REDACTED] to confirm details if needed. Thanks in advance for your support.\n",
      "\n",
      "--------------------------------------------------------------------------------\n",
      "Redacted Example 9:\n",
      "This is [REDACTED]. I paid my internet bill using bank account [REDACTED], routed through [REDACTED], but the system still shows a pending balance. Could you confirm the payment was applied correctly? Feel free to contact me at [REDACTED] if more information is needed.\n",
      "\n",
      "--------------------------------------------------------------------------------\n",
      "Redacted Example 10:\n",
      "Hello, I’m [REDACTED]. I’m writing because my utility bill wasn’t processed even after I submitted my payment. I used credit card number [REDACTED], and the payment was shown as 'failed' in your portal. Please confirm the status and call me at [REDACTED]\n",
      "\n",
      "--------------------------------------------------------------------------------\n",
      "Redacted Example 11:\n",
      "Hi, my name is [REDACTED]. I noticed an incorrect debit on my checking account [REDACTED], and I’ve already submitted a complaint, but haven’t heard back. It was routed via 209387416. Please investigate and let me know at [REDACTED]\n",
      "\n",
      "--------------------------------------------------------------------------------\n",
      "Redacted Example 12:\n",
      "Hi, this is [REDACTED]. I’m applying for a housing program and was informed my SSN [REDACTED] doesn’t verify. I submitted the documents over a week ago. Could someone please double-check and confirm this? I can be reached at [REDACTED]\n",
      "\n",
      "--------------------------------------------------------------------------------\n",
      "Redacted Example 13:\n",
      "Hello, I’m [REDACTED]. I recently moved to [REDACTED] and updated my billing info. However, I received a bill at my old address again. Could you confirm my current address is on file and contact me at [REDACTED]?\n",
      "\n",
      "--------------------------------------------------------------------------------\n",
      "Redacted Example 14:\n",
      "Hi, this is [REDACTED]. I got charged twice for a subscription renewal I canceled last month. The charges appeared on my credit card [REDACTED]. Can someone check the billing logs and process a refund? I’m available at [REDACTED]\n",
      "\n",
      "--------------------------------------------------------------------------------\n",
      "Redacted Example 15:\n",
      "Hello, I’m [REDACTED]. There seems to be a mismatch in my employment documents, and HR says my SSN [REDACTED] isn’t valid in their system. I submitted everything correctly. Please review this error and call me at [REDACTED] for confirmation.\n",
      "\n",
      "--------------------------------------------------------------------------------\n",
      "Redacted Example 16:\n",
      "Hi, I’m [REDACTED]. I recently submitted my SSN [REDACTED] for insurance verification, but I received a rejection notice saying it doesn’t match. This has delayed my policy approval, and I’d like it resolved quickly. You can reach me at [REDACTED] for further clarification.\n",
      "\n",
      "--------------------------------------------------------------------------------\n",
      "Redacted Example 17:\n",
      "Hello, my name is [REDACTED]. I noticed a duplicate charge on my credit card [REDACTED] after renewing my gym membership. I only authorized one transaction, but two payments were debited. Please investigate and call me at [REDACTED] with an update.\n",
      "\n",
      "--------------------------------------------------------------------------------\n",
      "Redacted Example 18:\n",
      "Hi, this is [REDACTED]. I paid my internet bill using account number [REDACTED] and routing number [REDACTED], but I still received a late notice. Kindly confirm the payment was processed and remove any late fee. My contact number is [REDACTED]\n",
      "\n",
      "--------------------------------------------------------------------------------\n",
      "Redacted Example 19:\n",
      "Hey, I’m [REDACTED]. I recently applied for a loan and used my SSN [REDACTED], but your system marked it as invalid. I’ve double-checked the number and it’s correct. Can someone verify and contact me at [REDACTED] as soon as possible?\n",
      "\n",
      "--------------------------------------------------------------------------------\n",
      "Redacted Example 20:\n",
      "Hello, I’m [REDACTED]. I received a suspicious notification about activity on my bank account [REDACTED], routed through [REDACTED] I did not authorize any recent transactions. Please freeze the account immediately and contact me at [REDACTED]\n",
      "\n",
      "--------------------------------------------------------------------------------\n",
      "Redacted Example 21:\n",
      "Hi, this is [REDACTED]. I made a payment using my credit card [REDACTED] for my electricity bill, but the system shows it’s still unpaid. I want to avoid any interruption in service. Please check and call me at [REDACTED]\n",
      "\n",
      "--------------------------------------------------------------------------------\n",
      "Redacted Example 22:\n",
      "Hello, I’m [REDACTED]. My water bill has not been updated even though I paid it two days ago from account number [REDACTED] with routing number [REDACTED] Please confirm the payment went through. You can call me at [REDACTED] if needed.\n",
      "\n",
      "--------------------------------------------------------------------------------\n",
      "Redacted Example 23:\n",
      "Hi, I’m [REDACTED]. My employment background check failed because your system shows an error with my SSN [REDACTED] I’ve verified that the number is correct. Could someone fix this issue and call me at [REDACTED]?\n",
      "\n",
      "--------------------------------------------------------------------------------\n",
      "Redacted Example 24:\n",
      "Hey, this is [REDACTED]. I was charged for a service I didn’t use on my credit card [REDACTED]. I need help disputing this charge and making sure it doesn’t happen again. Contact me at [REDACTED] with the resolution.\n",
      "\n",
      "--------------------------------------------------------------------------------\n",
      "Redacted Example 25:\n",
      "Hi, I’m [REDACTED]. My recent transfer didn’t go through even though I used account number [REDACTED] and routing number [REDACTED]. I received a failed transaction alert. Can you please investigate and call me at [REDACTED]?\n",
      "\n",
      "--------------------------------------------------------------------------------\n",
      "Redacted Example 26:\n",
      "Hello, I’m [REDACTED]. I was trying to update my billing address for my internet service, but your system wouldn’t accept my new zip code. My current address is [REDACTED] Please help me resolve this and contact me at [REDACTED]\n",
      "\n",
      "--------------------------------------------------------------------------------\n",
      "Redacted Example 27:\n",
      "Hi, this is [REDACTED]. My mobile bill was paid using credit card [REDACTED], but the charge appears three times in my statement. Please reverse the extra payments and contact me at [REDACTED] once it’s fixed.\n",
      "\n",
      "--------------------------------------------------------------------------------\n",
      "Redacted Example 28:\n",
      "Hello, I’m [REDACTED]. I submitted my SSN [REDACTED] during onboarding, but HR reported it as unmatched. I’ve sent supporting documents already. Please follow up and reach me at [REDACTED] for any questions.\n",
      "\n",
      "--------------------------------------------------------------------------------\n",
      "Redacted Example 29:\n",
      "Hi, I’m [REDACTED]. I noticed an old billing address was still on file despite updating it last month. It should be [REDACTED] Kindly update your records and let me know at [REDACTED]\n",
      "\n",
      "--------------------------------------------------------------------------------\n",
      "Redacted Example 30:\n",
      "This is [REDACTED]. I got a notification about suspicious activity on my account [REDACTED] via routing number [REDACTED] I haven’t made any recent transactions. Please secure my account and call me at [REDACTED] with a report.\n",
      "\n",
      "--------------------------------------------------------------------------------\n"
     ]
    }
   ],
   "source": [
    "# Function to redact named entities in a given text\n",
    "def redact_text(text):\n",
    "    ner_results = nlp(text)  # Get NER results\n",
    "    cleaned_entities = merge_tokens(ner_results)  # Merge tokens for multi-token entities\n",
    "\n",
    "    redacted_text = text\n",
    "    for entity_type, values in cleaned_entities.items():\n",
    "        for value in values:\n",
    "            # Replace each identified entity with \"[REDACTED]\"\n",
    "            redacted_text = redacted_text.replace(value, \"[REDACTED]\")\n",
    "\n",
    "    return redacted_text\n",
    "\n",
    "# Redact all texts in the list\n",
    "redacted_examples = [redact_text(text) for text in examples]\n",
    "\n",
    "# Print redacted results\n",
    "for i, redacted_text in enumerate(redacted_examples, 1):\n",
    "    print(f\"Redacted Example {i}:\\n{redacted_text}\\n\")\n",
    "    print(\"-\" * 80)"
   ]
  },
  {
   "cell_type": "code",
   "execution_count": 31,
   "metadata": {
    "execution": {
     "iopub.execute_input": "2025-04-21T15:15:12.942558Z",
     "iopub.status.busy": "2025-04-21T15:15:12.941970Z",
     "iopub.status.idle": "2025-04-21T15:15:13.264081Z",
     "shell.execute_reply": "2025-04-21T15:15:13.263436Z",
     "shell.execute_reply.started": "2025-04-21T15:15:12.942539Z"
    },
    "trusted": true
   },
   "outputs": [
    {
     "name": "stderr",
     "output_type": "stream",
     "text": [
      "Device set to use cuda:0\n"
     ]
    },
    {
     "name": "stdout",
     "output_type": "stream",
     "text": [
      "NER Results for Example 1:\n",
      "  NAME: Daniel Brooks\n",
      "  BANK-ACCOUNT-NO: 3857194621\n",
      "  PHONE-NO: 312-674-2251\n",
      "\n",
      "--------------------------------------------------------------------------------\n",
      "\n",
      "NER Results for Example 2:\n",
      "  NAME: Olivia Carter\n",
      "  ADDRESS: 217 Maple Street, San Diego, CA 92103.\n",
      "\n",
      "--------------------------------------------------------------------------------\n",
      "\n",
      "NER Results for Example 3:\n",
      "  NAME: Jonathan Reed\n",
      "  BANK-ACCOUNT-NO: 2609-4753-6712-8953\n",
      "  PHONE-NO: 845-372-1098\n",
      "\n",
      "--------------------------------------------------------------------------------\n",
      "\n",
      "NER Results for Example 4:\n",
      "  NAME: Laura Smith\n",
      "  SSN: 621-87-3251\n",
      "  ADDRESS: 1295 West Grove Ave, Springfield, IL 62704.\n",
      "\n",
      "--------------------------------------------------------------------------------\n",
      "\n",
      "NER Results for Example 5:\n",
      "  NAME: Ethan Parker\n",
      "  ADDRESS: 5521 Walnut Drive, Austin, TX 78745.\n",
      "  CREDIT-CARD-NO: 5123-4568-9875-2145\n",
      "  PHONE-NO: 678-214-8895\n",
      "\n",
      "--------------------------------------------------------------------------------\n",
      "\n",
      "NER Results for Example 6:\n",
      "  NAME: william harris\n",
      "  BANK-ACCOUNT-NO: 43786152\n",
      "  PHONE-NO: 541-273-9084.\n",
      "  ADDRESS: 9844 parkview street, portland, oregon 97223.\n",
      "\n",
      "--------------------------------------------------------------------------------\n",
      "\n",
      "NER Results for Example 7:\n",
      "  NAME: liam wright\n",
      "  BANK-ACCOUNT-NO: 390-283-7465\n",
      "  PHONE-NO: 310-539-7465.7291\n",
      "  ADDRESS: 8317 oak avenue, los angeles, california 9001.\n",
      "\n",
      "--------------------------------------------------------------------------------\n",
      "\n",
      "NER Results for Example 8:\n",
      "  NAME: jackson smith\n",
      "  BANK-ACCOUNT-NO: 850-192-3821\n",
      "  PHONE-NO: 818-523-9074\n",
      "  ADDRESS: 1937 beverly bollywood, los angeles, ca 90057.\n",
      "\n",
      "--------------------------------------------------------------------------------\n",
      "\n",
      "NER Results for Example 9:\n",
      "  NAME: matthew hall\n",
      "  BANK-ACCOUNT-NO: 158-039-6728\n",
      "  ADDRESS: 1421 oakwood drive, denver, colorado 80239.\n",
      "  PHONE-NO: 303-763-0491.\n",
      "\n",
      "--------------------------------------------------------------------------------\n",
      "\n",
      "NER Results for Example 10:\n",
      "  NAME: lucas clark\n",
      "  BANK-ROUTING-NO: 894-73-8591\n",
      "  PHONE-NO: 404-438-2573.\n",
      "  ADDRESS: 21349 atlas, georgia 30303.\n",
      "\n",
      "--------------------------------------------------------------------------------\n",
      "\n"
     ]
    }
   ],
   "source": [
    "from transformers import pipeline\n",
    "\n",
    "# Load your fine-tuned NER model\n",
    "nlp = pipeline(\"ner\", model=model_fine_tuned, tokenizer=tokenizer, aggregation_strategy=\"simple\")\n",
    "\n",
    "# List of text examples\n",
    "examples = [\n",
    "    \"Hello, my name is Daniel Brooks. I’m reaching out regarding an issue with my mortgage payment. I recently made a payment using my bank account 3857194621, but I received a notification that the payment was declined due to an account mismatch. I believe there’s an error in how my details were processed. This delay is concerning as it might result in late fees. Please verify my details and reach out to me at 312-674-2251 as soon as possible. Thank you for your assistance.\",\n",
    "\n",
    "    \"Hi, this is Olivia Carter. I’ve been experiencing a service disruption with my electricity at 217 Maple Street, San Diego, CA 92103. Despite making my monthly payment on time, my service was unexpectedly disconnected. I tried reaching customer support, but I haven’t been able to get through. This is causing significant inconvenience for my household. Could you please check the status of my payment and restore the service at the earliest?\",\n",
    "\n",
    "    \"Hi, I’m Jonathan Reed. I recently noticed an unauthorized withdrawal from my checking account 2609-4753-6712-8953 that I did not authorize. I haven’t lost my card or shared my account details with anyone. I contacted my bank, but they advised me to reach out to you for further investigation. Could you please look into this issue and put a temporary hold on my account to prevent further transactions? Please call me at 845-372-1098 for updates. Thank you for your time.\",\n",
    "\n",
    "    \"Hi, this is Laura Smith. I recently received a notification about a discrepancy in my Social Security details linked to my employment records. My Social Security Number 621-87-3251 appears to be mismatched in your system, which could potentially affect my payroll and benefits. I’d appreciate it if someone could verify and correct this issue as soon as possible. Please mail the confirmation to 1295 West Grove Ave, Springfield, IL 62704. Thank you for your help.\",\n",
    "\n",
    "    \"Hello, I’m Ethan Parker. I have a billing issue with my internet service. My service address is 5521 Walnut Drive, Austin, TX 78745. I recently paid my bill using my credit card 5123-4568-9875-2145, but it seems the payment wasn’t processed correctly, and I’ve been charged twice for the same billing cycle. Could you please review my account and refund the extra charge? You can contact me at 678-214-8895 for any further information.\",\n",
    "\n",
    "     \"hi, i'm william harris. i'm having an issue with my auto insurance. i filed a claim but it hasn't been processed yet. my account number is 43786152 and my driver's license number is 705-70-0962. would you look into this? you can reach me at 541-273-9084.  and my address is 9844 parkview street, portland, oregon 97223. thank you for your help.\",\n",
    "\n",
    "    \"hello, this is liam wright. i recently paid my rent, but it hasn't been reflected in my account. my account number is 390-283-7465 and the payment was $1,200. my driver's license number is y9349074. can you verify the payment status? my contact number is 310-539-7465.  7291 and my address is 8317 oak avenue, los angeles, california 9001. thank you for your assistance.\",\n",
    "\n",
    "\n",
    "    \"hello, this is jackson smith. i'm contacting you about an issue with my student loan account. my account number is 850-192-3821 and i recently made a payment of $1000 but it hasn't been applied to my balance. can you please investigate? my passport number is b98765432.  please contact me at 818-523-9074 or send mail to 1937 beverly bollywood, los angeles, ca 90057. thank you for your help.\",\n",
    "\n",
    "\n",
    "    \"hi, i'm matthew hall. i'm writing regarding a recent charge on my bank account 158-039-6728 for $3.50 which i do not recognize. i believe my account might have been compromised. my address is 1421 oakwood drive, denver, colorado 80239. please investigate this matter and contact me at 303-763-0491. thank you for your attention to this\",\n",
    "\n",
    "\n",
    "    \"hi, i am lucas clark. i recently made a payment of $1,500 on my loan, but the payment hasn't been reflected. my bank routing number is 894-73-8591 and my passport number is l12345678. can you check the status? my contact number is 404-438-2573.  and my address is 21349 atlas, georgia 30303. thank you.\"\n",
    "\n",
    "]\n",
    "\n",
    "\n",
    "\n",
    "# Process each example through the NER model\n",
    "for i, example in enumerate(examples, 1):\n",
    "    ner_results = nlp(example)\n",
    "    cleaned_entities = merge_tokens(ner_results)\n",
    "\n",
    "    # Display results\n",
    "    print(f\"NER Results for Example {i}:\")\n",
    "    for entity_type, values in cleaned_entities.items():\n",
    "        print(f\"  {entity_type}: {', '.join(values)}\")\n",
    "    print(\"\\n\" + \"-\"*80 + \"\\n\")\n"
   ]
  },
  {
   "cell_type": "code",
   "execution_count": 32,
   "metadata": {
    "execution": {
     "iopub.execute_input": "2025-04-21T15:15:26.996946Z",
     "iopub.status.busy": "2025-04-21T15:15:26.996488Z",
     "iopub.status.idle": "2025-04-21T15:15:27.306578Z",
     "shell.execute_reply": "2025-04-21T15:15:27.305944Z",
     "shell.execute_reply.started": "2025-04-21T15:15:26.996925Z"
    },
    "trusted": true
   },
   "outputs": [
    {
     "name": "stdout",
     "output_type": "stream",
     "text": [
      "Redacted Example 1:\n",
      "Hello, my name is [REDACTED]. I’m reaching out regarding an issue with my mortgage payment. I recently made a payment using my bank account [REDACTED], but I received a notification that the payment was declined due to an account mismatch. I believe there’s an error in how my details were processed. This delay is concerning as it might result in late fees. Please verify my details and reach out to me at [REDACTED] as soon as possible. Thank you for your assistance.\n",
      "\n",
      "--------------------------------------------------------------------------------\n",
      "Redacted Example 2:\n",
      "Hi, this is [REDACTED]. I’ve been experiencing a service disruption with my electricity at [REDACTED] Despite making my monthly payment on time, my service was unexpectedly disconnected. I tried reaching customer support, but I haven’t been able to get through. This is causing significant inconvenience for my household. Could you please check the status of my payment and restore the service at the earliest?\n",
      "\n",
      "--------------------------------------------------------------------------------\n",
      "Redacted Example 3:\n",
      "Hi, I’m [REDACTED]. I recently noticed an unauthorized withdrawal from my checking account [REDACTED] that I did not authorize. I haven’t lost my card or shared my account details with anyone. I contacted my bank, but they advised me to reach out to you for further investigation. Could you please look into this issue and put a temporary hold on my account to prevent further transactions? Please call me at [REDACTED] for updates. Thank you for your time.\n",
      "\n",
      "--------------------------------------------------------------------------------\n",
      "Redacted Example 4:\n",
      "Hi, this is [REDACTED]. I recently received a notification about a discrepancy in my Social Security details linked to my employment records. My Social Security Number [REDACTED] appears to be mismatched in your system, which could potentially affect my payroll and benefits. I’d appreciate it if someone could verify and correct this issue as soon as possible. Please mail the confirmation to [REDACTED] Thank you for your help.\n",
      "\n",
      "--------------------------------------------------------------------------------\n",
      "Redacted Example 5:\n",
      "Hello, I’m [REDACTED]. I have a billing issue with my internet service. My service address is [REDACTED] I recently paid my bill using my credit card [REDACTED], but it seems the payment wasn’t processed correctly, and I’ve been charged twice for the same billing cycle. Could you please review my account and refund the extra charge? You can contact me at [REDACTED] for any further information.\n",
      "\n",
      "--------------------------------------------------------------------------------\n",
      "Redacted Example 6:\n",
      "hi, i'm [REDACTED]. i'm having an issue with my auto insurance. i filed a claim but it hasn't been processed yet. my account number is [REDACTED] and my driver's license number is 705-70-0962. would you look into this? you can reach me at [REDACTED]  and my address is [REDACTED] thank you for your help.\n",
      "\n",
      "--------------------------------------------------------------------------------\n",
      "Redacted Example 7:\n",
      "hello, this is [REDACTED]. i recently paid my rent, but it hasn't been reflected in my account. my account number is [REDACTED] and the payment was $1,200. my driver's license number is y9349074. can you verify the payment status? my contact number is 310-539-7465.  7291 and my address is [REDACTED] thank you for your assistance.\n",
      "\n",
      "--------------------------------------------------------------------------------\n",
      "Redacted Example 8:\n",
      "hello, this is [REDACTED]. i'm contacting you about an issue with my student loan account. my account number is [REDACTED] and i recently made a payment of $1000 but it hasn't been applied to my balance. can you please investigate? my passport number is b98765432.  please contact me at [REDACTED] or send mail to [REDACTED] thank you for your help.\n",
      "\n",
      "--------------------------------------------------------------------------------\n",
      "Redacted Example 9:\n",
      "hi, i'm [REDACTED]. i'm writing regarding a recent charge on my bank account [REDACTED] for $3.50 which i do not recognize. i believe my account might have been compromised. my address is [REDACTED] please investigate this matter and contact me at [REDACTED] thank you for your attention to this\n",
      "\n",
      "--------------------------------------------------------------------------------\n",
      "Redacted Example 10:\n",
      "hi, i am [REDACTED]. i recently made a payment of $1,500 on my loan, but the payment hasn't been reflected. my bank routing number is [REDACTED] and my passport number is l12345678. can you check the status? my contact number is [REDACTED]  and my address is [REDACTED] thank you.\n",
      "\n",
      "--------------------------------------------------------------------------------\n"
     ]
    }
   ],
   "source": [
    "# Function to redact named entities in a given text\n",
    "def redact_text(text):\n",
    "    ner_results = nlp(text)  # Get NER results\n",
    "    cleaned_entities = merge_tokens(ner_results)  # Merge tokens for multi-token entities\n",
    "\n",
    "    redacted_text = text\n",
    "    for entity_type, values in cleaned_entities.items():\n",
    "        for value in values:\n",
    "            # Replace each identified entity with \"[REDACTED]\"\n",
    "            redacted_text = redacted_text.replace(value, \"[REDACTED]\")\n",
    "\n",
    "    return redacted_text\n",
    "\n",
    "# Redact all texts in the list\n",
    "redacted_examples = [redact_text(text) for text in examples]\n",
    "\n",
    "# Print redacted results\n",
    "for i, redacted_text in enumerate(redacted_examples, 1):\n",
    "    print(f\"Redacted Example {i}:\\n{redacted_text}\\n\")\n",
    "    print(\"-\" * 80)"
   ]
  },
  {
   "cell_type": "code",
   "execution_count": null,
   "metadata": {
    "execution": {
     "iopub.execute_input": "2025-04-21T15:29:42.765271Z",
     "iopub.status.busy": "2025-04-21T15:29:42.764948Z",
     "iopub.status.idle": "2025-04-21T15:29:42.880672Z",
     "shell.execute_reply": "2025-04-21T15:29:42.880046Z",
     "shell.execute_reply.started": "2025-04-21T15:29:42.765251Z"
    },
    "trusted": true
   },
   "outputs": [],
   "source": [
    "from huggingface_hub import login\n",
    "\n",
    "login(token=\"your hugging face token\")"
   ]
  },
  {
   "cell_type": "code",
   "execution_count": 39,
   "metadata": {
    "execution": {
     "iopub.execute_input": "2025-04-21T15:29:49.158039Z",
     "iopub.status.busy": "2025-04-21T15:29:49.157764Z",
     "iopub.status.idle": "2025-04-21T15:30:32.727791Z",
     "shell.execute_reply": "2025-04-21T15:30:32.727216Z",
     "shell.execute_reply.started": "2025-04-21T15:29:49.158021Z"
    },
    "trusted": true
   },
   "outputs": [
    {
     "data": {
      "application/vnd.jupyter.widget-view+json": {
       "model_id": "36bee58f930d426d8ff0d1562065b139",
       "version_major": 2,
       "version_minor": 0
      },
      "text/plain": [
       "model.safetensors:   0%|          | 0.00/1.11G [00:00<?, ?B/s]"
      ]
     },
     "metadata": {},
     "output_type": "display_data"
    },
    {
     "data": {
      "application/vnd.jupyter.widget-view+json": {
       "model_id": "0537c0a9395045709cfb7f5a3a36a86c",
       "version_major": 2,
       "version_minor": 0
      },
      "text/plain": [
       "README.md:   0%|          | 0.00/5.17k [00:00<?, ?B/s]"
      ]
     },
     "metadata": {},
     "output_type": "display_data"
    },
    {
     "data": {
      "application/vnd.jupyter.widget-view+json": {
       "model_id": "ca45bdb077a04cfb96ad40ecb4373a50",
       "version_major": 2,
       "version_minor": 0
      },
      "text/plain": [
       "tokenizer.json:   0%|          | 0.00/16.3M [00:00<?, ?B/s]"
      ]
     },
     "metadata": {},
     "output_type": "display_data"
    },
    {
     "data": {
      "application/vnd.jupyter.widget-view+json": {
       "model_id": "f1b10c76168e40c19a31a5ab7cb4213e",
       "version_major": 2,
       "version_minor": 0
      },
      "text/plain": [
       "spm.model:   0%|          | 0.00/4.31M [00:00<?, ?B/s]"
      ]
     },
     "metadata": {},
     "output_type": "display_data"
    },
    {
     "data": {
      "application/vnd.jupyter.widget-view+json": {
       "model_id": "18496389b13c4d83a4e5ee134a4a0c05",
       "version_major": 2,
       "version_minor": 0
      },
      "text/plain": [
       "Upload 2 LFS files:   0%|          | 0/2 [00:00<?, ?it/s]"
      ]
     },
     "metadata": {},
     "output_type": "display_data"
    },
    {
     "data": {
      "text/plain": [
       "CommitInfo(commit_url='https://huggingface.co/AI-Enthusiast11/pii-entity-extractor/commit/5bee20c1d19f9655029cc63f2adf05317a2d2c90', commit_message='Upload tokenizer', commit_description='', oid='5bee20c1d19f9655029cc63f2adf05317a2d2c90', pr_url=None, repo_url=RepoUrl('https://huggingface.co/AI-Enthusiast11/pii-entity-extractor', endpoint='https://huggingface.co', repo_type='model', repo_id='AI-Enthusiast11/pii-entity-extractor'), pr_revision=None, pr_num=None)"
      ]
     },
     "execution_count": 39,
     "metadata": {},
     "output_type": "execute_result"
    }
   ],
   "source": [
    "from transformers import AutoModelForTokenClassification, AutoTokenizer\n",
    "\n",
    "# Load your model and tokenizer from saved directories\n",
    "model = AutoModelForTokenClassification.from_pretrained(\"ner_model\")\n",
    "tokenizer = AutoTokenizer.from_pretrained(\"tokenizer\")\n",
    "\n",
    "# Push both to the Hugging Face Hub under a new repo name\n",
    "repo_name = \"pii-entity-extractor\"  # change this to any name you want on the hub\n",
    "\n",
    "# Push to your account\n",
    "model.push_to_hub(repo_name)\n",
    "tokenizer.push_to_hub(repo_name)"
   ]
  }
 ],
 "metadata": {
  "kaggle": {
   "accelerator": "nvidiaTeslaT4",
   "dataSources": [
    {
     "datasetId": 7209153,
     "sourceId": 11499540,
     "sourceType": "datasetVersion"
    },
    {
     "datasetId": 7211480,
     "sourceId": 11502475,
     "sourceType": "datasetVersion"
    }
   ],
   "dockerImageVersionId": 31011,
   "isGpuEnabled": true,
   "isInternetEnabled": true,
   "language": "python",
   "sourceType": "notebook"
  },
  "kernelspec": {
   "display_name": "Python 3",
   "language": "python",
   "name": "python3"
  },
  "language_info": {
   "codemirror_mode": {
    "name": "ipython",
    "version": 3
   },
   "file_extension": ".py",
   "mimetype": "text/x-python",
   "name": "python",
   "nbconvert_exporter": "python",
   "pygments_lexer": "ipython3",
   "version": "3.11.11"
  }
 },
 "nbformat": 4,
 "nbformat_minor": 4
}
